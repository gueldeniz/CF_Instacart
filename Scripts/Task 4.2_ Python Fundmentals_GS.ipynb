{
 "cells": [
  {
   "cell_type": "markdown",
   "id": "d161ec1a",
   "metadata": {},
   "source": [
    "# 01. Importing Libraries"
   ]
  },
  {
   "cell_type": "code",
   "execution_count": 2,
   "id": "cbfb8102",
   "metadata": {},
   "outputs": [],
   "source": [
    "# Import Libraries\n",
    "import pandas as pd\n",
    "import numpy as np\n",
    "import os"
   ]
  },
  {
   "cell_type": "markdown",
   "id": "3497e2c7",
   "metadata": {},
   "source": [
    "# 02. Python Data Types"
   ]
  },
  {
   "cell_type": "markdown",
   "id": "136d7324",
   "metadata": {},
   "source": [
    "## Code 3 different ways of reaching a result of 100"
   ]
  },
  {
   "cell_type": "code",
   "execution_count": 3,
   "id": "e6b3775e",
   "metadata": {},
   "outputs": [],
   "source": [
    "x = 3"
   ]
  },
  {
   "cell_type": "code",
   "execution_count": 4,
   "id": "98ce7da3",
   "metadata": {},
   "outputs": [],
   "source": [
    "y = 67"
   ]
  },
  {
   "cell_type": "code",
   "execution_count": 5,
   "id": "bdeb6af4",
   "metadata": {},
   "outputs": [],
   "source": [
    "z = 30"
   ]
  },
  {
   "cell_type": "code",
   "execution_count": 6,
   "id": "36f43791",
   "metadata": {},
   "outputs": [],
   "source": [
    "m = 2"
   ]
  },
  {
   "cell_type": "code",
   "execution_count": 8,
   "id": "df9817c9",
   "metadata": {},
   "outputs": [],
   "source": [
    "n = 10"
   ]
  },
  {
   "cell_type": "code",
   "execution_count": 17,
   "id": "147d1e76",
   "metadata": {},
   "outputs": [],
   "source": [
    "f = 5"
   ]
  },
  {
   "cell_type": "code",
   "execution_count": 7,
   "id": "753a9190",
   "metadata": {},
   "outputs": [
    {
     "data": {
      "text/plain": [
       "100"
      ]
     },
     "execution_count": 7,
     "metadata": {},
     "output_type": "execute_result"
    }
   ],
   "source": [
    "# 1st Way:\n",
    "x + y + z"
   ]
  },
  {
   "cell_type": "code",
   "execution_count": 9,
   "id": "a105b0af",
   "metadata": {},
   "outputs": [
    {
     "data": {
      "text/plain": [
       "100"
      ]
     },
     "execution_count": 9,
     "metadata": {},
     "output_type": "execute_result"
    }
   ],
   "source": [
    "# 2nd Way:\n",
    "m * z + m*m*n"
   ]
  },
  {
   "cell_type": "code",
   "execution_count": 19,
   "id": "bdaedd32",
   "metadata": {
    "scrolled": true
   },
   "outputs": [
    {
     "data": {
      "text/plain": [
       "100.0"
      ]
     },
     "execution_count": 19,
     "metadata": {},
     "output_type": "execute_result"
    }
   ],
   "source": [
    "# 3rd Way:\n",
    "(y - (f+m))/2 + m * z + n "
   ]
  },
  {
   "cell_type": "markdown",
   "id": "e28976b8",
   "metadata": {},
   "source": [
    "## Code 2 floating-point variables and divide them by each other."
   ]
  },
  {
   "cell_type": "code",
   "execution_count": 23,
   "id": "58acb6fb",
   "metadata": {},
   "outputs": [],
   "source": [
    "t= 28.264"
   ]
  },
  {
   "cell_type": "code",
   "execution_count": 22,
   "id": "4d013684",
   "metadata": {},
   "outputs": [],
   "source": [
    "d= 9.421"
   ]
  },
  {
   "cell_type": "code",
   "execution_count": 24,
   "id": "32d0e593",
   "metadata": {},
   "outputs": [
    {
     "data": {
      "text/plain": [
       "3.0001061458443905"
      ]
     },
     "execution_count": 24,
     "metadata": {},
     "output_type": "execute_result"
    }
   ],
   "source": [
    "t / d"
   ]
  },
  {
   "cell_type": "markdown",
   "id": "bffb4417",
   "metadata": {},
   "source": [
    "## Construct a short word made of separate strings "
   ]
  },
  {
   "cell_type": "code",
   "execution_count": 25,
   "id": "e3d6f67e",
   "metadata": {},
   "outputs": [],
   "source": [
    "a = 'patch'"
   ]
  },
  {
   "cell_type": "code",
   "execution_count": 26,
   "id": "5dd98b3d",
   "metadata": {},
   "outputs": [],
   "source": [
    "b = 'work'"
   ]
  },
  {
   "cell_type": "code",
   "execution_count": 28,
   "id": "e24933ff",
   "metadata": {},
   "outputs": [],
   "source": [
    "c= '.01'"
   ]
  },
  {
   "cell_type": "code",
   "execution_count": 29,
   "id": "85a81dab",
   "metadata": {},
   "outputs": [
    {
     "data": {
      "text/plain": [
       "'patchwork.01'"
      ]
     },
     "execution_count": 29,
     "metadata": {},
     "output_type": "execute_result"
    }
   ],
   "source": [
    "a+b+c"
   ]
  },
  {
   "cell_type": "markdown",
   "id": "281c564a",
   "metadata": {},
   "source": [
    "## Construct 2 short sentences made of separate strings"
   ]
  },
  {
   "cell_type": "code",
   "execution_count": 36,
   "id": "66599c06",
   "metadata": {},
   "outputs": [],
   "source": [
    "# 1st Sentence\n",
    "p = 'take '"
   ]
  },
  {
   "cell_type": "code",
   "execution_count": 37,
   "id": "e2685108",
   "metadata": {},
   "outputs": [],
   "source": [
    "r= 'your '"
   ]
  },
  {
   "cell_type": "code",
   "execution_count": 38,
   "id": "8ec40116",
   "metadata": {},
   "outputs": [],
   "source": [
    "s= 'C '"
   ]
  },
  {
   "cell_type": "code",
   "execution_count": 39,
   "id": "428038d9",
   "metadata": {},
   "outputs": [],
   "source": [
    "t= 'Vitamin!'"
   ]
  },
  {
   "cell_type": "code",
   "execution_count": 40,
   "id": "2e715401",
   "metadata": {},
   "outputs": [
    {
     "data": {
      "text/plain": [
       "'take your C Vitamin!'"
      ]
     },
     "execution_count": 40,
     "metadata": {},
     "output_type": "execute_result"
    }
   ],
   "source": [
    "p+r+s+t"
   ]
  },
  {
   "cell_type": "code",
   "execution_count": 41,
   "id": "ffc759dd",
   "metadata": {},
   "outputs": [],
   "source": [
    "# 2n Sentence\n",
    "P= 'Drink '"
   ]
  },
  {
   "cell_type": "code",
   "execution_count": 42,
   "id": "7da5b7bc",
   "metadata": {},
   "outputs": [],
   "source": [
    "R = 'enough '"
   ]
  },
  {
   "cell_type": "code",
   "execution_count": 44,
   "id": "5b60be6e",
   "metadata": {},
   "outputs": [],
   "source": [
    "S= 'water '"
   ]
  },
  {
   "cell_type": "code",
   "execution_count": 45,
   "id": "9b7477bd",
   "metadata": {},
   "outputs": [],
   "source": [
    "T = 'daily.'"
   ]
  },
  {
   "cell_type": "code",
   "execution_count": 46,
   "id": "e5ecdc1c",
   "metadata": {},
   "outputs": [
    {
     "data": {
      "text/plain": [
       "'Drink enough water daily.'"
      ]
     },
     "execution_count": 46,
     "metadata": {},
     "output_type": "execute_result"
    }
   ],
   "source": [
    "P+R+S+T"
   ]
  },
  {
   "cell_type": "markdown",
   "id": "43ef3373",
   "metadata": {},
   "source": [
    "## Bonus Task"
   ]
  },
  {
   "cell_type": "code",
   "execution_count": 47,
   "id": "bf02e2a3",
   "metadata": {},
   "outputs": [
    {
     "data": {
      "text/plain": [
       "'Vitamin!Vitamin!Vitamin!Vitamin!Vitamin!Vitamin!Vitamin!Vitamin!Vitamin!Vitamin!Vitamin!Vitamin!Vitamin!Vitamin!Vitamin!Vitamin!Vitamin!Vitamin!Vitamin!Vitamin!Vitamin!Vitamin!Vitamin!Vitamin!Vitamin!Vitamin!Vitamin!Vitamin!Vitamin!Vitamin!Vitamin!Vitamin!Vitamin!Vitamin!Vitamin!Vitamin!Vitamin!Vitamin!Vitamin!Vitamin!Vitamin!Vitamin!Vitamin!Vitamin!Vitamin!Vitamin!Vitamin!Vitamin!Vitamin!Vitamin!Vitamin!Vitamin!Vitamin!Vitamin!Vitamin!Vitamin!Vitamin!Vitamin!Vitamin!Vitamin!Vitamin!Vitamin!Vitamin!Vitamin!Vitamin!Vitamin!Vitamin!Vitamin!Vitamin!Vitamin!Vitamin!Vitamin!Vitamin!Vitamin!Vitamin!Vitamin!Vitamin!Vitamin!Vitamin!Vitamin!Vitamin!Vitamin!Vitamin!Vitamin!Vitamin!Vitamin!Vitamin!Vitamin!Vitamin!Vitamin!Vitamin!Vitamin!Vitamin!Vitamin!Vitamin!Vitamin!Vitamin!Vitamin!Vitamin!Vitamin!'"
      ]
     },
     "execution_count": 47,
     "metadata": {},
     "output_type": "execute_result"
    }
   ],
   "source": [
    "# (x+y+z)=100 & t='Vitamin!'\n",
    "(x+y+z)*t"
   ]
  }
 ],
 "metadata": {
  "kernelspec": {
   "display_name": "Python 3 (ipykernel)",
   "language": "python",
   "name": "python3"
  },
  "language_info": {
   "codemirror_mode": {
    "name": "ipython",
    "version": 3
   },
   "file_extension": ".py",
   "mimetype": "text/x-python",
   "name": "python",
   "nbconvert_exporter": "python",
   "pygments_lexer": "ipython3",
   "version": "3.9.7"
  }
 },
 "nbformat": 4,
 "nbformat_minor": 5
}
