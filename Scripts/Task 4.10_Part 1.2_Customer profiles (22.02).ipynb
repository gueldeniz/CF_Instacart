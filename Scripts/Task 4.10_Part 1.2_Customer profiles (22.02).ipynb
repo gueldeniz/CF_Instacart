{
 "cells": [
  {
   "cell_type": "markdown",
   "id": "0894f64f",
   "metadata": {},
   "source": [
    "# Task 4.10 Cont. "
   ]
  },
  {
   "cell_type": "markdown",
   "id": "a6d983c7",
   "metadata": {},
   "source": [
    "### 5) Create a profiling variable based on age, income, certain goods in the “department_id” column, and number of dependents.\n",
    "### 6) Create an appropriate visualization to show the distribution of profiles.\n",
    "### 7) Aggregate the max, mean, and min variables on a customer-profile level for usage frequency and expenditure.\n",
    "### 8) Compare your customer profiles with regions and departments. Can you identify a link between them? Customers may demonstrate different behaviors across regions, which could make this information important.\n",
    "### 9) Produce suitable charts to illustrate your results and export them in your project folder.¶\n",
    "### 10) Tidy up your script, export your final data set, and save your notebook.\n"
   ]
  },
  {
   "cell_type": "code",
   "execution_count": 1,
   "id": "ef883a37",
   "metadata": {},
   "outputs": [],
   "source": [
    "#Importing libraries\n",
    "\n",
    "import pandas as pd\n",
    "import numpy as np\n",
    "import os\n",
    "import matplotlib.pyplot as plt\n",
    "import seaborn as sns\n",
    "import scipy"
   ]
  },
  {
   "cell_type": "code",
   "execution_count": 2,
   "id": "ba132660",
   "metadata": {},
   "outputs": [],
   "source": [
    "# Creating path\n",
    "\n",
    "path = r'C:\\Users\\Güldeniz\\Desktop\\Career Foundry\\2. Data Immersion\\Achievement 4\\Instacart  Basket Analysis'"
   ]
  },
  {
   "cell_type": "code",
   "execution_count": 3,
   "id": "b8903280",
   "metadata": {},
   "outputs": [],
   "source": [
    "#Importing latest data\n",
    "\n",
    "df_all = pd.read_pickle(os.path.join(path,'02 Data', 'Prepared Data', 'df_all_final.1.pkl'))"
   ]
  },
  {
   "cell_type": "code",
   "execution_count": 4,
   "id": "68ba9172",
   "metadata": {
    "scrolled": true
   },
   "outputs": [
    {
     "data": {
      "text/plain": [
       "(32404859, 34)"
      ]
     },
     "execution_count": 4,
     "metadata": {},
     "output_type": "execute_result"
    }
   ],
   "source": [
    "df_all.shape"
   ]
  },
  {
   "cell_type": "markdown",
   "id": "f68a0674",
   "metadata": {},
   "source": [
    "##### 5) Customer profiles"
   ]
  },
  {
   "cell_type": "code",
   "execution_count": 5,
   "id": "625615a2",
   "metadata": {},
   "outputs": [],
   "source": [
    "# 1) Flag for 'Young single adult' (age between 18 and 34, income group: low and middle, department_id: frozen, produce, beverages, diary eggs, snacks, canned goods; parental_status: non parent)\n",
    "\n",
    "Young_single_profile = df_all.loc[(df_all['age_group'].isin(['18-24','25-34'])) & (df_all['income_groups'].isin(['low income', 'middle income'])) & (df_all['department_id'].isin([1, 4, 7, 15, 16, 19])) & (df_all['parental_status'] == 'non parent'), 'customer_profile'] = 'Young single adult'"
   ]
  },
  {
   "cell_type": "code",
   "execution_count": 6,
   "id": "4439dc19",
   "metadata": {},
   "outputs": [],
   "source": [
    "# 2) Flag for 'Single adult' (age: <55 - >34, income: middle- middle-high, department_id: frozen, produce, alcohol, beverages, diary eggs, snacks; parental_status: non parent)\n",
    "\n",
    "Single_adult_pofile = df_all.loc[(df_all['age_group'].isin(['35-44', '45-54'])) & (df_all['income_groups'].isin(['middle income', 'middle high income'])) & (df_all['department_id'].isin([1, 4, 5, 7, 16, 19])) & (df_all['parental_status'] == 'non parent'), 'customer_profile'] = 'Single adult'"
   ]
  },
  {
   "cell_type": "code",
   "execution_count": 7,
   "id": "67c57ad1",
   "metadata": {
    "scrolled": true
   },
   "outputs": [],
   "source": [
    "# 3) Flag for 'Young parent' (age: 18> - <35, income: low, middle, department_id: frozen, produce, beverages, diary eggs, snacks, canned goods, babies; parental_status: parent)\n",
    "\n",
    "Young_parent_profile = df_all.loc[(df_all['age_group'].isin(['18-24','25-34'])) & (df_all['income_groups'].isin(['low income','middle income'])) & (df_all['department_id'].isin([1, 4, 7, 16, 18])) & (df_all['parental_status'] == 'parent'), 'customer_profile'] = 'Young parent'"
   ]
  },
  {
   "cell_type": "code",
   "execution_count": 8,
   "id": "7487a375",
   "metadata": {},
   "outputs": [],
   "source": [
    "# 4) Flag for 'Active Parent' (age: 35 <= age <65, income: middle, middle high, department_id: frozen, produce, beverages, diary eggs, snacks, babies, deli; parental_status: parent)\n",
    "\n",
    "Active_parent_profile = df_all.loc[(df_all['age_group'].isin(['35-44', '55-64'])) & (df_all['income_groups'].isin(['middle income', 'middle high income'])) & (df_all['department_id'].isin([1, 4, 7, 16, 18, 19])) & (df_all['parental_status'] == 'parent'), 'customer_profile'] = 'Active parent'"
   ]
  },
  {
   "cell_type": "code",
   "execution_count": 9,
   "id": "ae9286df",
   "metadata": {},
   "outputs": [],
   "source": [
    "# 5) Flag for 'retired' (age: => 65, income: low, middle, department_id: frozen, produce, beverages, diary eggs, snacks,meat seafood)\n",
    "\n",
    "Retired_profile = df_all.loc[(df_all['age_group'].isin(['65-74', '75+'])) & (df_all['income_groups'].isin(['low income', 'middle income'])) & (df_all['department_id'].isin([1, 4, 7, 12, 16, 19])), 'customer_profile'] = 'Retired'"
   ]
  },
  {
   "cell_type": "code",
   "execution_count": 10,
   "id": "72184674",
   "metadata": {},
   "outputs": [],
   "source": [
    "# 6) Flag for 'luxus profile' (age: 35 < age< 55, income: >300000, department_id: frozen, produce, beverages, diary eggs, snacks, household)\n",
    "\n",
    "Luxus_profile = df_all.loc[(df_all['age_group'].isin(['35-44', '45-54'])) & (df_all['income_groups'].isin(['high income', 'very high income'])) & (df_all['department_id'].isin([1, 4, 7, 16, 17,19])), 'customer_profile'] = 'Luxus'"
   ]
  },
  {
   "cell_type": "code",
   "execution_count": 11,
   "id": "fdb1ac9d",
   "metadata": {},
   "outputs": [
    {
     "data": {
      "text/plain": [
       "NaN                   18181879\n",
       "Young parent           3989596\n",
       "Active parent          3700033\n",
       "Retired                3676782\n",
       "Young single adult     1564603\n",
       "Single adult           1218250\n",
       "Luxus                    73716\n",
       "Name: customer_profile, dtype: int64"
      ]
     },
     "execution_count": 11,
     "metadata": {},
     "output_type": "execute_result"
    }
   ],
   "source": [
    "#Check customer profiles\n",
    "\n",
    "df_all['customer_profile'].value_counts(dropna = False)"
   ]
  },
  {
   "cell_type": "code",
   "execution_count": 12,
   "id": "b665f724",
   "metadata": {},
   "outputs": [
    {
     "data": {
      "text/plain": [
       "(32404859,)"
      ]
     },
     "execution_count": 12,
     "metadata": {},
     "output_type": "execute_result"
    }
   ],
   "source": [
    "df_all['customer_profile'].shape"
   ]
  },
  {
   "cell_type": "code",
   "execution_count": 13,
   "id": "e0dc9f36",
   "metadata": {},
   "outputs": [],
   "source": [
    "pd.options.display.max_rows = None"
   ]
  },
  {
   "cell_type": "code",
   "execution_count": 14,
   "id": "37547f5c",
   "metadata": {},
   "outputs": [
    {
     "data": {
      "text/html": [
       "<div>\n",
       "<style scoped>\n",
       "    .dataframe tbody tr th:only-of-type {\n",
       "        vertical-align: middle;\n",
       "    }\n",
       "\n",
       "    .dataframe tbody tr th {\n",
       "        vertical-align: top;\n",
       "    }\n",
       "\n",
       "    .dataframe thead th {\n",
       "        text-align: right;\n",
       "    }\n",
       "</style>\n",
       "<table border=\"1\" class=\"dataframe\">\n",
       "  <thead>\n",
       "    <tr style=\"text-align: right;\">\n",
       "      <th></th>\n",
       "      <th>user_id</th>\n",
       "      <th>customer_profile</th>\n",
       "    </tr>\n",
       "  </thead>\n",
       "  <tbody>\n",
       "    <tr>\n",
       "      <th>0</th>\n",
       "      <td>1</td>\n",
       "      <td>Young parent</td>\n",
       "    </tr>\n",
       "    <tr>\n",
       "      <th>1</th>\n",
       "      <td>1</td>\n",
       "      <td>Young parent</td>\n",
       "    </tr>\n",
       "    <tr>\n",
       "      <th>2</th>\n",
       "      <td>1</td>\n",
       "      <td>Young parent</td>\n",
       "    </tr>\n",
       "    <tr>\n",
       "      <th>3</th>\n",
       "      <td>1</td>\n",
       "      <td>Young parent</td>\n",
       "    </tr>\n",
       "    <tr>\n",
       "      <th>4</th>\n",
       "      <td>1</td>\n",
       "      <td>Young parent</td>\n",
       "    </tr>\n",
       "    <tr>\n",
       "      <th>5</th>\n",
       "      <td>1</td>\n",
       "      <td>Young parent</td>\n",
       "    </tr>\n",
       "    <tr>\n",
       "      <th>6</th>\n",
       "      <td>1</td>\n",
       "      <td>Young parent</td>\n",
       "    </tr>\n",
       "    <tr>\n",
       "      <th>7</th>\n",
       "      <td>1</td>\n",
       "      <td>Young parent</td>\n",
       "    </tr>\n",
       "    <tr>\n",
       "      <th>8</th>\n",
       "      <td>1</td>\n",
       "      <td>Young parent</td>\n",
       "    </tr>\n",
       "    <tr>\n",
       "      <th>9</th>\n",
       "      <td>1</td>\n",
       "      <td>Young parent</td>\n",
       "    </tr>\n",
       "    <tr>\n",
       "      <th>10</th>\n",
       "      <td>1</td>\n",
       "      <td>Young parent</td>\n",
       "    </tr>\n",
       "    <tr>\n",
       "      <th>11</th>\n",
       "      <td>1</td>\n",
       "      <td>NaN</td>\n",
       "    </tr>\n",
       "    <tr>\n",
       "      <th>12</th>\n",
       "      <td>1</td>\n",
       "      <td>NaN</td>\n",
       "    </tr>\n",
       "    <tr>\n",
       "      <th>13</th>\n",
       "      <td>1</td>\n",
       "      <td>NaN</td>\n",
       "    </tr>\n",
       "    <tr>\n",
       "      <th>14</th>\n",
       "      <td>1</td>\n",
       "      <td>NaN</td>\n",
       "    </tr>\n",
       "    <tr>\n",
       "      <th>15</th>\n",
       "      <td>1</td>\n",
       "      <td>NaN</td>\n",
       "    </tr>\n",
       "    <tr>\n",
       "      <th>16</th>\n",
       "      <td>1</td>\n",
       "      <td>NaN</td>\n",
       "    </tr>\n",
       "    <tr>\n",
       "      <th>17</th>\n",
       "      <td>1</td>\n",
       "      <td>NaN</td>\n",
       "    </tr>\n",
       "    <tr>\n",
       "      <th>18</th>\n",
       "      <td>1</td>\n",
       "      <td>NaN</td>\n",
       "    </tr>\n",
       "    <tr>\n",
       "      <th>19</th>\n",
       "      <td>1</td>\n",
       "      <td>NaN</td>\n",
       "    </tr>\n",
       "    <tr>\n",
       "      <th>20</th>\n",
       "      <td>1</td>\n",
       "      <td>NaN</td>\n",
       "    </tr>\n",
       "    <tr>\n",
       "      <th>21</th>\n",
       "      <td>1</td>\n",
       "      <td>NaN</td>\n",
       "    </tr>\n",
       "    <tr>\n",
       "      <th>22</th>\n",
       "      <td>1</td>\n",
       "      <td>NaN</td>\n",
       "    </tr>\n",
       "    <tr>\n",
       "      <th>23</th>\n",
       "      <td>1</td>\n",
       "      <td>NaN</td>\n",
       "    </tr>\n",
       "    <tr>\n",
       "      <th>24</th>\n",
       "      <td>1</td>\n",
       "      <td>NaN</td>\n",
       "    </tr>\n",
       "    <tr>\n",
       "      <th>25</th>\n",
       "      <td>1</td>\n",
       "      <td>NaN</td>\n",
       "    </tr>\n",
       "    <tr>\n",
       "      <th>26</th>\n",
       "      <td>1</td>\n",
       "      <td>NaN</td>\n",
       "    </tr>\n",
       "    <tr>\n",
       "      <th>27</th>\n",
       "      <td>1</td>\n",
       "      <td>NaN</td>\n",
       "    </tr>\n",
       "    <tr>\n",
       "      <th>28</th>\n",
       "      <td>1</td>\n",
       "      <td>NaN</td>\n",
       "    </tr>\n",
       "    <tr>\n",
       "      <th>29</th>\n",
       "      <td>1</td>\n",
       "      <td>NaN</td>\n",
       "    </tr>\n",
       "    <tr>\n",
       "      <th>30</th>\n",
       "      <td>1</td>\n",
       "      <td>NaN</td>\n",
       "    </tr>\n",
       "    <tr>\n",
       "      <th>31</th>\n",
       "      <td>1</td>\n",
       "      <td>NaN</td>\n",
       "    </tr>\n",
       "    <tr>\n",
       "      <th>32</th>\n",
       "      <td>1</td>\n",
       "      <td>NaN</td>\n",
       "    </tr>\n",
       "    <tr>\n",
       "      <th>33</th>\n",
       "      <td>1</td>\n",
       "      <td>NaN</td>\n",
       "    </tr>\n",
       "    <tr>\n",
       "      <th>34</th>\n",
       "      <td>1</td>\n",
       "      <td>Young parent</td>\n",
       "    </tr>\n",
       "    <tr>\n",
       "      <th>35</th>\n",
       "      <td>1</td>\n",
       "      <td>Young parent</td>\n",
       "    </tr>\n",
       "    <tr>\n",
       "      <th>36</th>\n",
       "      <td>1</td>\n",
       "      <td>NaN</td>\n",
       "    </tr>\n",
       "    <tr>\n",
       "      <th>37</th>\n",
       "      <td>1</td>\n",
       "      <td>NaN</td>\n",
       "    </tr>\n",
       "    <tr>\n",
       "      <th>38</th>\n",
       "      <td>1</td>\n",
       "      <td>NaN</td>\n",
       "    </tr>\n",
       "    <tr>\n",
       "      <th>39</th>\n",
       "      <td>1</td>\n",
       "      <td>Young parent</td>\n",
       "    </tr>\n",
       "    <tr>\n",
       "      <th>40</th>\n",
       "      <td>1</td>\n",
       "      <td>Young parent</td>\n",
       "    </tr>\n",
       "    <tr>\n",
       "      <th>41</th>\n",
       "      <td>1</td>\n",
       "      <td>Young parent</td>\n",
       "    </tr>\n",
       "    <tr>\n",
       "      <th>42</th>\n",
       "      <td>1</td>\n",
       "      <td>Young parent</td>\n",
       "    </tr>\n",
       "    <tr>\n",
       "      <th>43</th>\n",
       "      <td>1</td>\n",
       "      <td>Young parent</td>\n",
       "    </tr>\n",
       "    <tr>\n",
       "      <th>44</th>\n",
       "      <td>1</td>\n",
       "      <td>Young parent</td>\n",
       "    </tr>\n",
       "    <tr>\n",
       "      <th>45</th>\n",
       "      <td>1</td>\n",
       "      <td>Young parent</td>\n",
       "    </tr>\n",
       "    <tr>\n",
       "      <th>46</th>\n",
       "      <td>1</td>\n",
       "      <td>Young parent</td>\n",
       "    </tr>\n",
       "    <tr>\n",
       "      <th>47</th>\n",
       "      <td>1</td>\n",
       "      <td>NaN</td>\n",
       "    </tr>\n",
       "    <tr>\n",
       "      <th>48</th>\n",
       "      <td>1</td>\n",
       "      <td>Young parent</td>\n",
       "    </tr>\n",
       "    <tr>\n",
       "      <th>49</th>\n",
       "      <td>1</td>\n",
       "      <td>Young parent</td>\n",
       "    </tr>\n",
       "  </tbody>\n",
       "</table>\n",
       "</div>"
      ],
      "text/plain": [
       "    user_id customer_profile\n",
       "0         1     Young parent\n",
       "1         1     Young parent\n",
       "2         1     Young parent\n",
       "3         1     Young parent\n",
       "4         1     Young parent\n",
       "5         1     Young parent\n",
       "6         1     Young parent\n",
       "7         1     Young parent\n",
       "8         1     Young parent\n",
       "9         1     Young parent\n",
       "10        1     Young parent\n",
       "11        1              NaN\n",
       "12        1              NaN\n",
       "13        1              NaN\n",
       "14        1              NaN\n",
       "15        1              NaN\n",
       "16        1              NaN\n",
       "17        1              NaN\n",
       "18        1              NaN\n",
       "19        1              NaN\n",
       "20        1              NaN\n",
       "21        1              NaN\n",
       "22        1              NaN\n",
       "23        1              NaN\n",
       "24        1              NaN\n",
       "25        1              NaN\n",
       "26        1              NaN\n",
       "27        1              NaN\n",
       "28        1              NaN\n",
       "29        1              NaN\n",
       "30        1              NaN\n",
       "31        1              NaN\n",
       "32        1              NaN\n",
       "33        1              NaN\n",
       "34        1     Young parent\n",
       "35        1     Young parent\n",
       "36        1              NaN\n",
       "37        1              NaN\n",
       "38        1              NaN\n",
       "39        1     Young parent\n",
       "40        1     Young parent\n",
       "41        1     Young parent\n",
       "42        1     Young parent\n",
       "43        1     Young parent\n",
       "44        1     Young parent\n",
       "45        1     Young parent\n",
       "46        1     Young parent\n",
       "47        1              NaN\n",
       "48        1     Young parent\n",
       "49        1     Young parent"
      ]
     },
     "execution_count": 14,
     "metadata": {},
     "output_type": "execute_result"
    }
   ],
   "source": [
    "# Check if everything went smoothly\n",
    "\n",
    "df_all[['user_id', 'customer_profile']].head(50)"
   ]
  },
  {
   "cell_type": "code",
   "execution_count": 15,
   "id": "61060dea",
   "metadata": {},
   "outputs": [
    {
     "data": {
      "text/html": [
       "<div>\n",
       "<style scoped>\n",
       "    .dataframe tbody tr th:only-of-type {\n",
       "        vertical-align: middle;\n",
       "    }\n",
       "\n",
       "    .dataframe tbody tr th {\n",
       "        vertical-align: top;\n",
       "    }\n",
       "\n",
       "    .dataframe thead th {\n",
       "        text-align: right;\n",
       "    }\n",
       "</style>\n",
       "<table border=\"1\" class=\"dataframe\">\n",
       "  <thead>\n",
       "    <tr style=\"text-align: right;\">\n",
       "      <th></th>\n",
       "      <th>user_id</th>\n",
       "      <th>customer_profile</th>\n",
       "    </tr>\n",
       "  </thead>\n",
       "  <tbody>\n",
       "    <tr>\n",
       "      <th>32404809</th>\n",
       "      <td>11534</td>\n",
       "      <td>Retired</td>\n",
       "    </tr>\n",
       "    <tr>\n",
       "      <th>32404810</th>\n",
       "      <td>105857</td>\n",
       "      <td>NaN</td>\n",
       "    </tr>\n",
       "    <tr>\n",
       "      <th>32404811</th>\n",
       "      <td>105857</td>\n",
       "      <td>NaN</td>\n",
       "    </tr>\n",
       "    <tr>\n",
       "      <th>32404812</th>\n",
       "      <td>105857</td>\n",
       "      <td>NaN</td>\n",
       "    </tr>\n",
       "    <tr>\n",
       "      <th>32404813</th>\n",
       "      <td>105857</td>\n",
       "      <td>NaN</td>\n",
       "    </tr>\n",
       "    <tr>\n",
       "      <th>32404814</th>\n",
       "      <td>105857</td>\n",
       "      <td>NaN</td>\n",
       "    </tr>\n",
       "    <tr>\n",
       "      <th>32404815</th>\n",
       "      <td>105857</td>\n",
       "      <td>NaN</td>\n",
       "    </tr>\n",
       "    <tr>\n",
       "      <th>32404816</th>\n",
       "      <td>38979</td>\n",
       "      <td>Active parent</td>\n",
       "    </tr>\n",
       "    <tr>\n",
       "      <th>32404817</th>\n",
       "      <td>38979</td>\n",
       "      <td>Active parent</td>\n",
       "    </tr>\n",
       "    <tr>\n",
       "      <th>32404818</th>\n",
       "      <td>38979</td>\n",
       "      <td>Active parent</td>\n",
       "    </tr>\n",
       "    <tr>\n",
       "      <th>32404819</th>\n",
       "      <td>120516</td>\n",
       "      <td>NaN</td>\n",
       "    </tr>\n",
       "    <tr>\n",
       "      <th>32404820</th>\n",
       "      <td>120516</td>\n",
       "      <td>NaN</td>\n",
       "    </tr>\n",
       "    <tr>\n",
       "      <th>32404821</th>\n",
       "      <td>120516</td>\n",
       "      <td>NaN</td>\n",
       "    </tr>\n",
       "    <tr>\n",
       "      <th>32404822</th>\n",
       "      <td>120516</td>\n",
       "      <td>NaN</td>\n",
       "    </tr>\n",
       "    <tr>\n",
       "      <th>32404823</th>\n",
       "      <td>120516</td>\n",
       "      <td>NaN</td>\n",
       "    </tr>\n",
       "    <tr>\n",
       "      <th>32404824</th>\n",
       "      <td>120516</td>\n",
       "      <td>NaN</td>\n",
       "    </tr>\n",
       "    <tr>\n",
       "      <th>32404825</th>\n",
       "      <td>120516</td>\n",
       "      <td>NaN</td>\n",
       "    </tr>\n",
       "    <tr>\n",
       "      <th>32404826</th>\n",
       "      <td>166751</td>\n",
       "      <td>NaN</td>\n",
       "    </tr>\n",
       "    <tr>\n",
       "      <th>32404827</th>\n",
       "      <td>166751</td>\n",
       "      <td>NaN</td>\n",
       "    </tr>\n",
       "    <tr>\n",
       "      <th>32404828</th>\n",
       "      <td>166751</td>\n",
       "      <td>NaN</td>\n",
       "    </tr>\n",
       "    <tr>\n",
       "      <th>32404829</th>\n",
       "      <td>106143</td>\n",
       "      <td>Young single adult</td>\n",
       "    </tr>\n",
       "    <tr>\n",
       "      <th>32404830</th>\n",
       "      <td>106143</td>\n",
       "      <td>Young single adult</td>\n",
       "    </tr>\n",
       "    <tr>\n",
       "      <th>32404831</th>\n",
       "      <td>106143</td>\n",
       "      <td>Young single adult</td>\n",
       "    </tr>\n",
       "    <tr>\n",
       "      <th>32404832</th>\n",
       "      <td>106143</td>\n",
       "      <td>Young single adult</td>\n",
       "    </tr>\n",
       "    <tr>\n",
       "      <th>32404833</th>\n",
       "      <td>106143</td>\n",
       "      <td>Young single adult</td>\n",
       "    </tr>\n",
       "    <tr>\n",
       "      <th>32404834</th>\n",
       "      <td>106143</td>\n",
       "      <td>Young single adult</td>\n",
       "    </tr>\n",
       "    <tr>\n",
       "      <th>32404835</th>\n",
       "      <td>106143</td>\n",
       "      <td>Young single adult</td>\n",
       "    </tr>\n",
       "    <tr>\n",
       "      <th>32404836</th>\n",
       "      <td>106143</td>\n",
       "      <td>Young single adult</td>\n",
       "    </tr>\n",
       "    <tr>\n",
       "      <th>32404837</th>\n",
       "      <td>106143</td>\n",
       "      <td>Young single adult</td>\n",
       "    </tr>\n",
       "    <tr>\n",
       "      <th>32404838</th>\n",
       "      <td>106143</td>\n",
       "      <td>Young single adult</td>\n",
       "    </tr>\n",
       "    <tr>\n",
       "      <th>32404839</th>\n",
       "      <td>106143</td>\n",
       "      <td>Young single adult</td>\n",
       "    </tr>\n",
       "    <tr>\n",
       "      <th>32404840</th>\n",
       "      <td>106143</td>\n",
       "      <td>Young single adult</td>\n",
       "    </tr>\n",
       "    <tr>\n",
       "      <th>32404841</th>\n",
       "      <td>106143</td>\n",
       "      <td>Young single adult</td>\n",
       "    </tr>\n",
       "    <tr>\n",
       "      <th>32404842</th>\n",
       "      <td>106143</td>\n",
       "      <td>Young single adult</td>\n",
       "    </tr>\n",
       "    <tr>\n",
       "      <th>32404843</th>\n",
       "      <td>106143</td>\n",
       "      <td>Young single adult</td>\n",
       "    </tr>\n",
       "    <tr>\n",
       "      <th>32404844</th>\n",
       "      <td>106143</td>\n",
       "      <td>Young single adult</td>\n",
       "    </tr>\n",
       "    <tr>\n",
       "      <th>32404845</th>\n",
       "      <td>106143</td>\n",
       "      <td>Young single adult</td>\n",
       "    </tr>\n",
       "    <tr>\n",
       "      <th>32404846</th>\n",
       "      <td>106143</td>\n",
       "      <td>Young single adult</td>\n",
       "    </tr>\n",
       "    <tr>\n",
       "      <th>32404847</th>\n",
       "      <td>106143</td>\n",
       "      <td>Young single adult</td>\n",
       "    </tr>\n",
       "    <tr>\n",
       "      <th>32404848</th>\n",
       "      <td>106143</td>\n",
       "      <td>Young single adult</td>\n",
       "    </tr>\n",
       "    <tr>\n",
       "      <th>32404849</th>\n",
       "      <td>106143</td>\n",
       "      <td>Young single adult</td>\n",
       "    </tr>\n",
       "    <tr>\n",
       "      <th>32404850</th>\n",
       "      <td>106143</td>\n",
       "      <td>Young single adult</td>\n",
       "    </tr>\n",
       "    <tr>\n",
       "      <th>32404851</th>\n",
       "      <td>106143</td>\n",
       "      <td>Young single adult</td>\n",
       "    </tr>\n",
       "    <tr>\n",
       "      <th>32404852</th>\n",
       "      <td>106143</td>\n",
       "      <td>Young single adult</td>\n",
       "    </tr>\n",
       "    <tr>\n",
       "      <th>32404853</th>\n",
       "      <td>106143</td>\n",
       "      <td>Young single adult</td>\n",
       "    </tr>\n",
       "    <tr>\n",
       "      <th>32404854</th>\n",
       "      <td>106143</td>\n",
       "      <td>Young single adult</td>\n",
       "    </tr>\n",
       "    <tr>\n",
       "      <th>32404855</th>\n",
       "      <td>66343</td>\n",
       "      <td>NaN</td>\n",
       "    </tr>\n",
       "    <tr>\n",
       "      <th>32404856</th>\n",
       "      <td>66343</td>\n",
       "      <td>NaN</td>\n",
       "    </tr>\n",
       "    <tr>\n",
       "      <th>32404857</th>\n",
       "      <td>66343</td>\n",
       "      <td>NaN</td>\n",
       "    </tr>\n",
       "    <tr>\n",
       "      <th>32404858</th>\n",
       "      <td>66343</td>\n",
       "      <td>NaN</td>\n",
       "    </tr>\n",
       "  </tbody>\n",
       "</table>\n",
       "</div>"
      ],
      "text/plain": [
       "          user_id    customer_profile\n",
       "32404809    11534             Retired\n",
       "32404810   105857                 NaN\n",
       "32404811   105857                 NaN\n",
       "32404812   105857                 NaN\n",
       "32404813   105857                 NaN\n",
       "32404814   105857                 NaN\n",
       "32404815   105857                 NaN\n",
       "32404816    38979       Active parent\n",
       "32404817    38979       Active parent\n",
       "32404818    38979       Active parent\n",
       "32404819   120516                 NaN\n",
       "32404820   120516                 NaN\n",
       "32404821   120516                 NaN\n",
       "32404822   120516                 NaN\n",
       "32404823   120516                 NaN\n",
       "32404824   120516                 NaN\n",
       "32404825   120516                 NaN\n",
       "32404826   166751                 NaN\n",
       "32404827   166751                 NaN\n",
       "32404828   166751                 NaN\n",
       "32404829   106143  Young single adult\n",
       "32404830   106143  Young single adult\n",
       "32404831   106143  Young single adult\n",
       "32404832   106143  Young single adult\n",
       "32404833   106143  Young single adult\n",
       "32404834   106143  Young single adult\n",
       "32404835   106143  Young single adult\n",
       "32404836   106143  Young single adult\n",
       "32404837   106143  Young single adult\n",
       "32404838   106143  Young single adult\n",
       "32404839   106143  Young single adult\n",
       "32404840   106143  Young single adult\n",
       "32404841   106143  Young single adult\n",
       "32404842   106143  Young single adult\n",
       "32404843   106143  Young single adult\n",
       "32404844   106143  Young single adult\n",
       "32404845   106143  Young single adult\n",
       "32404846   106143  Young single adult\n",
       "32404847   106143  Young single adult\n",
       "32404848   106143  Young single adult\n",
       "32404849   106143  Young single adult\n",
       "32404850   106143  Young single adult\n",
       "32404851   106143  Young single adult\n",
       "32404852   106143  Young single adult\n",
       "32404853   106143  Young single adult\n",
       "32404854   106143  Young single adult\n",
       "32404855    66343                 NaN\n",
       "32404856    66343                 NaN\n",
       "32404857    66343                 NaN\n",
       "32404858    66343                 NaN"
      ]
     },
     "execution_count": 15,
     "metadata": {},
     "output_type": "execute_result"
    }
   ],
   "source": [
    "df_all[['user_id', 'customer_profile']].tail(50)"
   ]
  },
  {
   "cell_type": "code",
   "execution_count": 16,
   "id": "7e4b627f",
   "metadata": {},
   "outputs": [],
   "source": [
    "# transform all NaN values  to the same value for each user_id \n",
    "\n",
    "df_all['customer_profile'] = df_all.groupby('user_id')['customer_profile'].transform('first')"
   ]
  },
  {
   "cell_type": "code",
   "execution_count": 17,
   "id": "4dfd8bc0",
   "metadata": {},
   "outputs": [
    {
     "data": {
      "text/html": [
       "<div>\n",
       "<style scoped>\n",
       "    .dataframe tbody tr th:only-of-type {\n",
       "        vertical-align: middle;\n",
       "    }\n",
       "\n",
       "    .dataframe tbody tr th {\n",
       "        vertical-align: top;\n",
       "    }\n",
       "\n",
       "    .dataframe thead th {\n",
       "        text-align: right;\n",
       "    }\n",
       "</style>\n",
       "<table border=\"1\" class=\"dataframe\">\n",
       "  <thead>\n",
       "    <tr style=\"text-align: right;\">\n",
       "      <th></th>\n",
       "      <th>user_id</th>\n",
       "      <th>customer_profile</th>\n",
       "    </tr>\n",
       "  </thead>\n",
       "  <tbody>\n",
       "    <tr>\n",
       "      <th>0</th>\n",
       "      <td>1</td>\n",
       "      <td>Young parent</td>\n",
       "    </tr>\n",
       "    <tr>\n",
       "      <th>1</th>\n",
       "      <td>1</td>\n",
       "      <td>Young parent</td>\n",
       "    </tr>\n",
       "    <tr>\n",
       "      <th>2</th>\n",
       "      <td>1</td>\n",
       "      <td>Young parent</td>\n",
       "    </tr>\n",
       "    <tr>\n",
       "      <th>3</th>\n",
       "      <td>1</td>\n",
       "      <td>Young parent</td>\n",
       "    </tr>\n",
       "    <tr>\n",
       "      <th>4</th>\n",
       "      <td>1</td>\n",
       "      <td>Young parent</td>\n",
       "    </tr>\n",
       "    <tr>\n",
       "      <th>5</th>\n",
       "      <td>1</td>\n",
       "      <td>Young parent</td>\n",
       "    </tr>\n",
       "    <tr>\n",
       "      <th>6</th>\n",
       "      <td>1</td>\n",
       "      <td>Young parent</td>\n",
       "    </tr>\n",
       "    <tr>\n",
       "      <th>7</th>\n",
       "      <td>1</td>\n",
       "      <td>Young parent</td>\n",
       "    </tr>\n",
       "    <tr>\n",
       "      <th>8</th>\n",
       "      <td>1</td>\n",
       "      <td>Young parent</td>\n",
       "    </tr>\n",
       "    <tr>\n",
       "      <th>9</th>\n",
       "      <td>1</td>\n",
       "      <td>Young parent</td>\n",
       "    </tr>\n",
       "    <tr>\n",
       "      <th>10</th>\n",
       "      <td>1</td>\n",
       "      <td>Young parent</td>\n",
       "    </tr>\n",
       "    <tr>\n",
       "      <th>11</th>\n",
       "      <td>1</td>\n",
       "      <td>Young parent</td>\n",
       "    </tr>\n",
       "    <tr>\n",
       "      <th>12</th>\n",
       "      <td>1</td>\n",
       "      <td>Young parent</td>\n",
       "    </tr>\n",
       "    <tr>\n",
       "      <th>13</th>\n",
       "      <td>1</td>\n",
       "      <td>Young parent</td>\n",
       "    </tr>\n",
       "    <tr>\n",
       "      <th>14</th>\n",
       "      <td>1</td>\n",
       "      <td>Young parent</td>\n",
       "    </tr>\n",
       "    <tr>\n",
       "      <th>15</th>\n",
       "      <td>1</td>\n",
       "      <td>Young parent</td>\n",
       "    </tr>\n",
       "    <tr>\n",
       "      <th>16</th>\n",
       "      <td>1</td>\n",
       "      <td>Young parent</td>\n",
       "    </tr>\n",
       "    <tr>\n",
       "      <th>17</th>\n",
       "      <td>1</td>\n",
       "      <td>Young parent</td>\n",
       "    </tr>\n",
       "    <tr>\n",
       "      <th>18</th>\n",
       "      <td>1</td>\n",
       "      <td>Young parent</td>\n",
       "    </tr>\n",
       "    <tr>\n",
       "      <th>19</th>\n",
       "      <td>1</td>\n",
       "      <td>Young parent</td>\n",
       "    </tr>\n",
       "    <tr>\n",
       "      <th>20</th>\n",
       "      <td>1</td>\n",
       "      <td>Young parent</td>\n",
       "    </tr>\n",
       "    <tr>\n",
       "      <th>21</th>\n",
       "      <td>1</td>\n",
       "      <td>Young parent</td>\n",
       "    </tr>\n",
       "    <tr>\n",
       "      <th>22</th>\n",
       "      <td>1</td>\n",
       "      <td>Young parent</td>\n",
       "    </tr>\n",
       "    <tr>\n",
       "      <th>23</th>\n",
       "      <td>1</td>\n",
       "      <td>Young parent</td>\n",
       "    </tr>\n",
       "    <tr>\n",
       "      <th>24</th>\n",
       "      <td>1</td>\n",
       "      <td>Young parent</td>\n",
       "    </tr>\n",
       "    <tr>\n",
       "      <th>25</th>\n",
       "      <td>1</td>\n",
       "      <td>Young parent</td>\n",
       "    </tr>\n",
       "    <tr>\n",
       "      <th>26</th>\n",
       "      <td>1</td>\n",
       "      <td>Young parent</td>\n",
       "    </tr>\n",
       "    <tr>\n",
       "      <th>27</th>\n",
       "      <td>1</td>\n",
       "      <td>Young parent</td>\n",
       "    </tr>\n",
       "    <tr>\n",
       "      <th>28</th>\n",
       "      <td>1</td>\n",
       "      <td>Young parent</td>\n",
       "    </tr>\n",
       "    <tr>\n",
       "      <th>29</th>\n",
       "      <td>1</td>\n",
       "      <td>Young parent</td>\n",
       "    </tr>\n",
       "    <tr>\n",
       "      <th>30</th>\n",
       "      <td>1</td>\n",
       "      <td>Young parent</td>\n",
       "    </tr>\n",
       "    <tr>\n",
       "      <th>31</th>\n",
       "      <td>1</td>\n",
       "      <td>Young parent</td>\n",
       "    </tr>\n",
       "    <tr>\n",
       "      <th>32</th>\n",
       "      <td>1</td>\n",
       "      <td>Young parent</td>\n",
       "    </tr>\n",
       "    <tr>\n",
       "      <th>33</th>\n",
       "      <td>1</td>\n",
       "      <td>Young parent</td>\n",
       "    </tr>\n",
       "    <tr>\n",
       "      <th>34</th>\n",
       "      <td>1</td>\n",
       "      <td>Young parent</td>\n",
       "    </tr>\n",
       "    <tr>\n",
       "      <th>35</th>\n",
       "      <td>1</td>\n",
       "      <td>Young parent</td>\n",
       "    </tr>\n",
       "    <tr>\n",
       "      <th>36</th>\n",
       "      <td>1</td>\n",
       "      <td>Young parent</td>\n",
       "    </tr>\n",
       "    <tr>\n",
       "      <th>37</th>\n",
       "      <td>1</td>\n",
       "      <td>Young parent</td>\n",
       "    </tr>\n",
       "    <tr>\n",
       "      <th>38</th>\n",
       "      <td>1</td>\n",
       "      <td>Young parent</td>\n",
       "    </tr>\n",
       "    <tr>\n",
       "      <th>39</th>\n",
       "      <td>1</td>\n",
       "      <td>Young parent</td>\n",
       "    </tr>\n",
       "    <tr>\n",
       "      <th>40</th>\n",
       "      <td>1</td>\n",
       "      <td>Young parent</td>\n",
       "    </tr>\n",
       "    <tr>\n",
       "      <th>41</th>\n",
       "      <td>1</td>\n",
       "      <td>Young parent</td>\n",
       "    </tr>\n",
       "    <tr>\n",
       "      <th>42</th>\n",
       "      <td>1</td>\n",
       "      <td>Young parent</td>\n",
       "    </tr>\n",
       "    <tr>\n",
       "      <th>43</th>\n",
       "      <td>1</td>\n",
       "      <td>Young parent</td>\n",
       "    </tr>\n",
       "    <tr>\n",
       "      <th>44</th>\n",
       "      <td>1</td>\n",
       "      <td>Young parent</td>\n",
       "    </tr>\n",
       "    <tr>\n",
       "      <th>45</th>\n",
       "      <td>1</td>\n",
       "      <td>Young parent</td>\n",
       "    </tr>\n",
       "    <tr>\n",
       "      <th>46</th>\n",
       "      <td>1</td>\n",
       "      <td>Young parent</td>\n",
       "    </tr>\n",
       "    <tr>\n",
       "      <th>47</th>\n",
       "      <td>1</td>\n",
       "      <td>Young parent</td>\n",
       "    </tr>\n",
       "    <tr>\n",
       "      <th>48</th>\n",
       "      <td>1</td>\n",
       "      <td>Young parent</td>\n",
       "    </tr>\n",
       "    <tr>\n",
       "      <th>49</th>\n",
       "      <td>1</td>\n",
       "      <td>Young parent</td>\n",
       "    </tr>\n",
       "  </tbody>\n",
       "</table>\n",
       "</div>"
      ],
      "text/plain": [
       "    user_id customer_profile\n",
       "0         1     Young parent\n",
       "1         1     Young parent\n",
       "2         1     Young parent\n",
       "3         1     Young parent\n",
       "4         1     Young parent\n",
       "5         1     Young parent\n",
       "6         1     Young parent\n",
       "7         1     Young parent\n",
       "8         1     Young parent\n",
       "9         1     Young parent\n",
       "10        1     Young parent\n",
       "11        1     Young parent\n",
       "12        1     Young parent\n",
       "13        1     Young parent\n",
       "14        1     Young parent\n",
       "15        1     Young parent\n",
       "16        1     Young parent\n",
       "17        1     Young parent\n",
       "18        1     Young parent\n",
       "19        1     Young parent\n",
       "20        1     Young parent\n",
       "21        1     Young parent\n",
       "22        1     Young parent\n",
       "23        1     Young parent\n",
       "24        1     Young parent\n",
       "25        1     Young parent\n",
       "26        1     Young parent\n",
       "27        1     Young parent\n",
       "28        1     Young parent\n",
       "29        1     Young parent\n",
       "30        1     Young parent\n",
       "31        1     Young parent\n",
       "32        1     Young parent\n",
       "33        1     Young parent\n",
       "34        1     Young parent\n",
       "35        1     Young parent\n",
       "36        1     Young parent\n",
       "37        1     Young parent\n",
       "38        1     Young parent\n",
       "39        1     Young parent\n",
       "40        1     Young parent\n",
       "41        1     Young parent\n",
       "42        1     Young parent\n",
       "43        1     Young parent\n",
       "44        1     Young parent\n",
       "45        1     Young parent\n",
       "46        1     Young parent\n",
       "47        1     Young parent\n",
       "48        1     Young parent\n",
       "49        1     Young parent"
      ]
     },
     "execution_count": 17,
     "metadata": {},
     "output_type": "execute_result"
    }
   ],
   "source": [
    "#Control again\n",
    "\n",
    "df_all[['user_id', 'customer_profile']].head(50)"
   ]
  },
  {
   "cell_type": "code",
   "execution_count": 18,
   "id": "46deff01",
   "metadata": {},
   "outputs": [
    {
     "data": {
      "text/html": [
       "<div>\n",
       "<style scoped>\n",
       "    .dataframe tbody tr th:only-of-type {\n",
       "        vertical-align: middle;\n",
       "    }\n",
       "\n",
       "    .dataframe tbody tr th {\n",
       "        vertical-align: top;\n",
       "    }\n",
       "\n",
       "    .dataframe thead th {\n",
       "        text-align: right;\n",
       "    }\n",
       "</style>\n",
       "<table border=\"1\" class=\"dataframe\">\n",
       "  <thead>\n",
       "    <tr style=\"text-align: right;\">\n",
       "      <th></th>\n",
       "      <th>user_id</th>\n",
       "      <th>customer_profile</th>\n",
       "    </tr>\n",
       "  </thead>\n",
       "  <tbody>\n",
       "    <tr>\n",
       "      <th>32404809</th>\n",
       "      <td>11534</td>\n",
       "      <td>Retired</td>\n",
       "    </tr>\n",
       "    <tr>\n",
       "      <th>32404810</th>\n",
       "      <td>105857</td>\n",
       "      <td>None</td>\n",
       "    </tr>\n",
       "    <tr>\n",
       "      <th>32404811</th>\n",
       "      <td>105857</td>\n",
       "      <td>None</td>\n",
       "    </tr>\n",
       "    <tr>\n",
       "      <th>32404812</th>\n",
       "      <td>105857</td>\n",
       "      <td>None</td>\n",
       "    </tr>\n",
       "    <tr>\n",
       "      <th>32404813</th>\n",
       "      <td>105857</td>\n",
       "      <td>None</td>\n",
       "    </tr>\n",
       "    <tr>\n",
       "      <th>32404814</th>\n",
       "      <td>105857</td>\n",
       "      <td>None</td>\n",
       "    </tr>\n",
       "    <tr>\n",
       "      <th>32404815</th>\n",
       "      <td>105857</td>\n",
       "      <td>None</td>\n",
       "    </tr>\n",
       "    <tr>\n",
       "      <th>32404816</th>\n",
       "      <td>38979</td>\n",
       "      <td>Active parent</td>\n",
       "    </tr>\n",
       "    <tr>\n",
       "      <th>32404817</th>\n",
       "      <td>38979</td>\n",
       "      <td>Active parent</td>\n",
       "    </tr>\n",
       "    <tr>\n",
       "      <th>32404818</th>\n",
       "      <td>38979</td>\n",
       "      <td>Active parent</td>\n",
       "    </tr>\n",
       "    <tr>\n",
       "      <th>32404819</th>\n",
       "      <td>120516</td>\n",
       "      <td>None</td>\n",
       "    </tr>\n",
       "    <tr>\n",
       "      <th>32404820</th>\n",
       "      <td>120516</td>\n",
       "      <td>None</td>\n",
       "    </tr>\n",
       "    <tr>\n",
       "      <th>32404821</th>\n",
       "      <td>120516</td>\n",
       "      <td>None</td>\n",
       "    </tr>\n",
       "    <tr>\n",
       "      <th>32404822</th>\n",
       "      <td>120516</td>\n",
       "      <td>None</td>\n",
       "    </tr>\n",
       "    <tr>\n",
       "      <th>32404823</th>\n",
       "      <td>120516</td>\n",
       "      <td>None</td>\n",
       "    </tr>\n",
       "    <tr>\n",
       "      <th>32404824</th>\n",
       "      <td>120516</td>\n",
       "      <td>None</td>\n",
       "    </tr>\n",
       "    <tr>\n",
       "      <th>32404825</th>\n",
       "      <td>120516</td>\n",
       "      <td>None</td>\n",
       "    </tr>\n",
       "    <tr>\n",
       "      <th>32404826</th>\n",
       "      <td>166751</td>\n",
       "      <td>None</td>\n",
       "    </tr>\n",
       "    <tr>\n",
       "      <th>32404827</th>\n",
       "      <td>166751</td>\n",
       "      <td>None</td>\n",
       "    </tr>\n",
       "    <tr>\n",
       "      <th>32404828</th>\n",
       "      <td>166751</td>\n",
       "      <td>None</td>\n",
       "    </tr>\n",
       "    <tr>\n",
       "      <th>32404829</th>\n",
       "      <td>106143</td>\n",
       "      <td>Young single adult</td>\n",
       "    </tr>\n",
       "    <tr>\n",
       "      <th>32404830</th>\n",
       "      <td>106143</td>\n",
       "      <td>Young single adult</td>\n",
       "    </tr>\n",
       "    <tr>\n",
       "      <th>32404831</th>\n",
       "      <td>106143</td>\n",
       "      <td>Young single adult</td>\n",
       "    </tr>\n",
       "    <tr>\n",
       "      <th>32404832</th>\n",
       "      <td>106143</td>\n",
       "      <td>Young single adult</td>\n",
       "    </tr>\n",
       "    <tr>\n",
       "      <th>32404833</th>\n",
       "      <td>106143</td>\n",
       "      <td>Young single adult</td>\n",
       "    </tr>\n",
       "    <tr>\n",
       "      <th>32404834</th>\n",
       "      <td>106143</td>\n",
       "      <td>Young single adult</td>\n",
       "    </tr>\n",
       "    <tr>\n",
       "      <th>32404835</th>\n",
       "      <td>106143</td>\n",
       "      <td>Young single adult</td>\n",
       "    </tr>\n",
       "    <tr>\n",
       "      <th>32404836</th>\n",
       "      <td>106143</td>\n",
       "      <td>Young single adult</td>\n",
       "    </tr>\n",
       "    <tr>\n",
       "      <th>32404837</th>\n",
       "      <td>106143</td>\n",
       "      <td>Young single adult</td>\n",
       "    </tr>\n",
       "    <tr>\n",
       "      <th>32404838</th>\n",
       "      <td>106143</td>\n",
       "      <td>Young single adult</td>\n",
       "    </tr>\n",
       "    <tr>\n",
       "      <th>32404839</th>\n",
       "      <td>106143</td>\n",
       "      <td>Young single adult</td>\n",
       "    </tr>\n",
       "    <tr>\n",
       "      <th>32404840</th>\n",
       "      <td>106143</td>\n",
       "      <td>Young single adult</td>\n",
       "    </tr>\n",
       "    <tr>\n",
       "      <th>32404841</th>\n",
       "      <td>106143</td>\n",
       "      <td>Young single adult</td>\n",
       "    </tr>\n",
       "    <tr>\n",
       "      <th>32404842</th>\n",
       "      <td>106143</td>\n",
       "      <td>Young single adult</td>\n",
       "    </tr>\n",
       "    <tr>\n",
       "      <th>32404843</th>\n",
       "      <td>106143</td>\n",
       "      <td>Young single adult</td>\n",
       "    </tr>\n",
       "    <tr>\n",
       "      <th>32404844</th>\n",
       "      <td>106143</td>\n",
       "      <td>Young single adult</td>\n",
       "    </tr>\n",
       "    <tr>\n",
       "      <th>32404845</th>\n",
       "      <td>106143</td>\n",
       "      <td>Young single adult</td>\n",
       "    </tr>\n",
       "    <tr>\n",
       "      <th>32404846</th>\n",
       "      <td>106143</td>\n",
       "      <td>Young single adult</td>\n",
       "    </tr>\n",
       "    <tr>\n",
       "      <th>32404847</th>\n",
       "      <td>106143</td>\n",
       "      <td>Young single adult</td>\n",
       "    </tr>\n",
       "    <tr>\n",
       "      <th>32404848</th>\n",
       "      <td>106143</td>\n",
       "      <td>Young single adult</td>\n",
       "    </tr>\n",
       "    <tr>\n",
       "      <th>32404849</th>\n",
       "      <td>106143</td>\n",
       "      <td>Young single adult</td>\n",
       "    </tr>\n",
       "    <tr>\n",
       "      <th>32404850</th>\n",
       "      <td>106143</td>\n",
       "      <td>Young single adult</td>\n",
       "    </tr>\n",
       "    <tr>\n",
       "      <th>32404851</th>\n",
       "      <td>106143</td>\n",
       "      <td>Young single adult</td>\n",
       "    </tr>\n",
       "    <tr>\n",
       "      <th>32404852</th>\n",
       "      <td>106143</td>\n",
       "      <td>Young single adult</td>\n",
       "    </tr>\n",
       "    <tr>\n",
       "      <th>32404853</th>\n",
       "      <td>106143</td>\n",
       "      <td>Young single adult</td>\n",
       "    </tr>\n",
       "    <tr>\n",
       "      <th>32404854</th>\n",
       "      <td>106143</td>\n",
       "      <td>Young single adult</td>\n",
       "    </tr>\n",
       "    <tr>\n",
       "      <th>32404855</th>\n",
       "      <td>66343</td>\n",
       "      <td>None</td>\n",
       "    </tr>\n",
       "    <tr>\n",
       "      <th>32404856</th>\n",
       "      <td>66343</td>\n",
       "      <td>None</td>\n",
       "    </tr>\n",
       "    <tr>\n",
       "      <th>32404857</th>\n",
       "      <td>66343</td>\n",
       "      <td>None</td>\n",
       "    </tr>\n",
       "    <tr>\n",
       "      <th>32404858</th>\n",
       "      <td>66343</td>\n",
       "      <td>None</td>\n",
       "    </tr>\n",
       "  </tbody>\n",
       "</table>\n",
       "</div>"
      ],
      "text/plain": [
       "          user_id    customer_profile\n",
       "32404809    11534             Retired\n",
       "32404810   105857                None\n",
       "32404811   105857                None\n",
       "32404812   105857                None\n",
       "32404813   105857                None\n",
       "32404814   105857                None\n",
       "32404815   105857                None\n",
       "32404816    38979       Active parent\n",
       "32404817    38979       Active parent\n",
       "32404818    38979       Active parent\n",
       "32404819   120516                None\n",
       "32404820   120516                None\n",
       "32404821   120516                None\n",
       "32404822   120516                None\n",
       "32404823   120516                None\n",
       "32404824   120516                None\n",
       "32404825   120516                None\n",
       "32404826   166751                None\n",
       "32404827   166751                None\n",
       "32404828   166751                None\n",
       "32404829   106143  Young single adult\n",
       "32404830   106143  Young single adult\n",
       "32404831   106143  Young single adult\n",
       "32404832   106143  Young single adult\n",
       "32404833   106143  Young single adult\n",
       "32404834   106143  Young single adult\n",
       "32404835   106143  Young single adult\n",
       "32404836   106143  Young single adult\n",
       "32404837   106143  Young single adult\n",
       "32404838   106143  Young single adult\n",
       "32404839   106143  Young single adult\n",
       "32404840   106143  Young single adult\n",
       "32404841   106143  Young single adult\n",
       "32404842   106143  Young single adult\n",
       "32404843   106143  Young single adult\n",
       "32404844   106143  Young single adult\n",
       "32404845   106143  Young single adult\n",
       "32404846   106143  Young single adult\n",
       "32404847   106143  Young single adult\n",
       "32404848   106143  Young single adult\n",
       "32404849   106143  Young single adult\n",
       "32404850   106143  Young single adult\n",
       "32404851   106143  Young single adult\n",
       "32404852   106143  Young single adult\n",
       "32404853   106143  Young single adult\n",
       "32404854   106143  Young single adult\n",
       "32404855    66343                None\n",
       "32404856    66343                None\n",
       "32404857    66343                None\n",
       "32404858    66343                None"
      ]
     },
     "execution_count": 18,
     "metadata": {},
     "output_type": "execute_result"
    }
   ],
   "source": [
    "df_all[['user_id', 'customer_profile']].tail(50)"
   ]
  },
  {
   "cell_type": "code",
   "execution_count": 19,
   "id": "e8b40498",
   "metadata": {},
   "outputs": [],
   "source": [
    "# impute all empty cells with 'Other'\n",
    "\n",
    "df_all['customer_profile'].fillna('Other', inplace=True)"
   ]
  },
  {
   "cell_type": "code",
   "execution_count": 20,
   "id": "d74a1100",
   "metadata": {},
   "outputs": [
    {
     "data": {
      "text/html": [
       "<div>\n",
       "<style scoped>\n",
       "    .dataframe tbody tr th:only-of-type {\n",
       "        vertical-align: middle;\n",
       "    }\n",
       "\n",
       "    .dataframe tbody tr th {\n",
       "        vertical-align: top;\n",
       "    }\n",
       "\n",
       "    .dataframe thead th {\n",
       "        text-align: right;\n",
       "    }\n",
       "</style>\n",
       "<table border=\"1\" class=\"dataframe\">\n",
       "  <thead>\n",
       "    <tr style=\"text-align: right;\">\n",
       "      <th></th>\n",
       "      <th>user_id</th>\n",
       "      <th>customer_profile</th>\n",
       "    </tr>\n",
       "  </thead>\n",
       "  <tbody>\n",
       "    <tr>\n",
       "      <th>32404809</th>\n",
       "      <td>11534</td>\n",
       "      <td>Retired</td>\n",
       "    </tr>\n",
       "    <tr>\n",
       "      <th>32404810</th>\n",
       "      <td>105857</td>\n",
       "      <td>Other</td>\n",
       "    </tr>\n",
       "    <tr>\n",
       "      <th>32404811</th>\n",
       "      <td>105857</td>\n",
       "      <td>Other</td>\n",
       "    </tr>\n",
       "    <tr>\n",
       "      <th>32404812</th>\n",
       "      <td>105857</td>\n",
       "      <td>Other</td>\n",
       "    </tr>\n",
       "    <tr>\n",
       "      <th>32404813</th>\n",
       "      <td>105857</td>\n",
       "      <td>Other</td>\n",
       "    </tr>\n",
       "    <tr>\n",
       "      <th>32404814</th>\n",
       "      <td>105857</td>\n",
       "      <td>Other</td>\n",
       "    </tr>\n",
       "    <tr>\n",
       "      <th>32404815</th>\n",
       "      <td>105857</td>\n",
       "      <td>Other</td>\n",
       "    </tr>\n",
       "    <tr>\n",
       "      <th>32404816</th>\n",
       "      <td>38979</td>\n",
       "      <td>Active parent</td>\n",
       "    </tr>\n",
       "    <tr>\n",
       "      <th>32404817</th>\n",
       "      <td>38979</td>\n",
       "      <td>Active parent</td>\n",
       "    </tr>\n",
       "    <tr>\n",
       "      <th>32404818</th>\n",
       "      <td>38979</td>\n",
       "      <td>Active parent</td>\n",
       "    </tr>\n",
       "    <tr>\n",
       "      <th>32404819</th>\n",
       "      <td>120516</td>\n",
       "      <td>Other</td>\n",
       "    </tr>\n",
       "    <tr>\n",
       "      <th>32404820</th>\n",
       "      <td>120516</td>\n",
       "      <td>Other</td>\n",
       "    </tr>\n",
       "    <tr>\n",
       "      <th>32404821</th>\n",
       "      <td>120516</td>\n",
       "      <td>Other</td>\n",
       "    </tr>\n",
       "    <tr>\n",
       "      <th>32404822</th>\n",
       "      <td>120516</td>\n",
       "      <td>Other</td>\n",
       "    </tr>\n",
       "    <tr>\n",
       "      <th>32404823</th>\n",
       "      <td>120516</td>\n",
       "      <td>Other</td>\n",
       "    </tr>\n",
       "    <tr>\n",
       "      <th>32404824</th>\n",
       "      <td>120516</td>\n",
       "      <td>Other</td>\n",
       "    </tr>\n",
       "    <tr>\n",
       "      <th>32404825</th>\n",
       "      <td>120516</td>\n",
       "      <td>Other</td>\n",
       "    </tr>\n",
       "    <tr>\n",
       "      <th>32404826</th>\n",
       "      <td>166751</td>\n",
       "      <td>Other</td>\n",
       "    </tr>\n",
       "    <tr>\n",
       "      <th>32404827</th>\n",
       "      <td>166751</td>\n",
       "      <td>Other</td>\n",
       "    </tr>\n",
       "    <tr>\n",
       "      <th>32404828</th>\n",
       "      <td>166751</td>\n",
       "      <td>Other</td>\n",
       "    </tr>\n",
       "    <tr>\n",
       "      <th>32404829</th>\n",
       "      <td>106143</td>\n",
       "      <td>Young single adult</td>\n",
       "    </tr>\n",
       "    <tr>\n",
       "      <th>32404830</th>\n",
       "      <td>106143</td>\n",
       "      <td>Young single adult</td>\n",
       "    </tr>\n",
       "    <tr>\n",
       "      <th>32404831</th>\n",
       "      <td>106143</td>\n",
       "      <td>Young single adult</td>\n",
       "    </tr>\n",
       "    <tr>\n",
       "      <th>32404832</th>\n",
       "      <td>106143</td>\n",
       "      <td>Young single adult</td>\n",
       "    </tr>\n",
       "    <tr>\n",
       "      <th>32404833</th>\n",
       "      <td>106143</td>\n",
       "      <td>Young single adult</td>\n",
       "    </tr>\n",
       "    <tr>\n",
       "      <th>32404834</th>\n",
       "      <td>106143</td>\n",
       "      <td>Young single adult</td>\n",
       "    </tr>\n",
       "    <tr>\n",
       "      <th>32404835</th>\n",
       "      <td>106143</td>\n",
       "      <td>Young single adult</td>\n",
       "    </tr>\n",
       "    <tr>\n",
       "      <th>32404836</th>\n",
       "      <td>106143</td>\n",
       "      <td>Young single adult</td>\n",
       "    </tr>\n",
       "    <tr>\n",
       "      <th>32404837</th>\n",
       "      <td>106143</td>\n",
       "      <td>Young single adult</td>\n",
       "    </tr>\n",
       "    <tr>\n",
       "      <th>32404838</th>\n",
       "      <td>106143</td>\n",
       "      <td>Young single adult</td>\n",
       "    </tr>\n",
       "    <tr>\n",
       "      <th>32404839</th>\n",
       "      <td>106143</td>\n",
       "      <td>Young single adult</td>\n",
       "    </tr>\n",
       "    <tr>\n",
       "      <th>32404840</th>\n",
       "      <td>106143</td>\n",
       "      <td>Young single adult</td>\n",
       "    </tr>\n",
       "    <tr>\n",
       "      <th>32404841</th>\n",
       "      <td>106143</td>\n",
       "      <td>Young single adult</td>\n",
       "    </tr>\n",
       "    <tr>\n",
       "      <th>32404842</th>\n",
       "      <td>106143</td>\n",
       "      <td>Young single adult</td>\n",
       "    </tr>\n",
       "    <tr>\n",
       "      <th>32404843</th>\n",
       "      <td>106143</td>\n",
       "      <td>Young single adult</td>\n",
       "    </tr>\n",
       "    <tr>\n",
       "      <th>32404844</th>\n",
       "      <td>106143</td>\n",
       "      <td>Young single adult</td>\n",
       "    </tr>\n",
       "    <tr>\n",
       "      <th>32404845</th>\n",
       "      <td>106143</td>\n",
       "      <td>Young single adult</td>\n",
       "    </tr>\n",
       "    <tr>\n",
       "      <th>32404846</th>\n",
       "      <td>106143</td>\n",
       "      <td>Young single adult</td>\n",
       "    </tr>\n",
       "    <tr>\n",
       "      <th>32404847</th>\n",
       "      <td>106143</td>\n",
       "      <td>Young single adult</td>\n",
       "    </tr>\n",
       "    <tr>\n",
       "      <th>32404848</th>\n",
       "      <td>106143</td>\n",
       "      <td>Young single adult</td>\n",
       "    </tr>\n",
       "    <tr>\n",
       "      <th>32404849</th>\n",
       "      <td>106143</td>\n",
       "      <td>Young single adult</td>\n",
       "    </tr>\n",
       "    <tr>\n",
       "      <th>32404850</th>\n",
       "      <td>106143</td>\n",
       "      <td>Young single adult</td>\n",
       "    </tr>\n",
       "    <tr>\n",
       "      <th>32404851</th>\n",
       "      <td>106143</td>\n",
       "      <td>Young single adult</td>\n",
       "    </tr>\n",
       "    <tr>\n",
       "      <th>32404852</th>\n",
       "      <td>106143</td>\n",
       "      <td>Young single adult</td>\n",
       "    </tr>\n",
       "    <tr>\n",
       "      <th>32404853</th>\n",
       "      <td>106143</td>\n",
       "      <td>Young single adult</td>\n",
       "    </tr>\n",
       "    <tr>\n",
       "      <th>32404854</th>\n",
       "      <td>106143</td>\n",
       "      <td>Young single adult</td>\n",
       "    </tr>\n",
       "    <tr>\n",
       "      <th>32404855</th>\n",
       "      <td>66343</td>\n",
       "      <td>Other</td>\n",
       "    </tr>\n",
       "    <tr>\n",
       "      <th>32404856</th>\n",
       "      <td>66343</td>\n",
       "      <td>Other</td>\n",
       "    </tr>\n",
       "    <tr>\n",
       "      <th>32404857</th>\n",
       "      <td>66343</td>\n",
       "      <td>Other</td>\n",
       "    </tr>\n",
       "    <tr>\n",
       "      <th>32404858</th>\n",
       "      <td>66343</td>\n",
       "      <td>Other</td>\n",
       "    </tr>\n",
       "  </tbody>\n",
       "</table>\n",
       "</div>"
      ],
      "text/plain": [
       "          user_id    customer_profile\n",
       "32404809    11534             Retired\n",
       "32404810   105857               Other\n",
       "32404811   105857               Other\n",
       "32404812   105857               Other\n",
       "32404813   105857               Other\n",
       "32404814   105857               Other\n",
       "32404815   105857               Other\n",
       "32404816    38979       Active parent\n",
       "32404817    38979       Active parent\n",
       "32404818    38979       Active parent\n",
       "32404819   120516               Other\n",
       "32404820   120516               Other\n",
       "32404821   120516               Other\n",
       "32404822   120516               Other\n",
       "32404823   120516               Other\n",
       "32404824   120516               Other\n",
       "32404825   120516               Other\n",
       "32404826   166751               Other\n",
       "32404827   166751               Other\n",
       "32404828   166751               Other\n",
       "32404829   106143  Young single adult\n",
       "32404830   106143  Young single adult\n",
       "32404831   106143  Young single adult\n",
       "32404832   106143  Young single adult\n",
       "32404833   106143  Young single adult\n",
       "32404834   106143  Young single adult\n",
       "32404835   106143  Young single adult\n",
       "32404836   106143  Young single adult\n",
       "32404837   106143  Young single adult\n",
       "32404838   106143  Young single adult\n",
       "32404839   106143  Young single adult\n",
       "32404840   106143  Young single adult\n",
       "32404841   106143  Young single adult\n",
       "32404842   106143  Young single adult\n",
       "32404843   106143  Young single adult\n",
       "32404844   106143  Young single adult\n",
       "32404845   106143  Young single adult\n",
       "32404846   106143  Young single adult\n",
       "32404847   106143  Young single adult\n",
       "32404848   106143  Young single adult\n",
       "32404849   106143  Young single adult\n",
       "32404850   106143  Young single adult\n",
       "32404851   106143  Young single adult\n",
       "32404852   106143  Young single adult\n",
       "32404853   106143  Young single adult\n",
       "32404854   106143  Young single adult\n",
       "32404855    66343               Other\n",
       "32404856    66343               Other\n",
       "32404857    66343               Other\n",
       "32404858    66343               Other"
      ]
     },
     "execution_count": 20,
     "metadata": {},
     "output_type": "execute_result"
    }
   ],
   "source": [
    "df_all[['user_id', 'customer_profile']].tail(50)"
   ]
  },
  {
   "cell_type": "code",
   "execution_count": 21,
   "id": "c49930ae",
   "metadata": {},
   "outputs": [
    {
     "data": {
      "text/plain": [
       "(32404859, 35)"
      ]
     },
     "execution_count": 21,
     "metadata": {},
     "output_type": "execute_result"
    }
   ],
   "source": [
    "#Controlthe shape\n",
    "\n",
    "df_all.shape"
   ]
  },
  {
   "cell_type": "code",
   "execution_count": 22,
   "id": "e1f3deed",
   "metadata": {},
   "outputs": [],
   "source": [
    "# Check unique value counts (how many unique customers are there in each?)\n",
    "\n",
    "customer_profiles = df_all.groupby('customer_profile')['user_id'].nunique().sort_values(ascending=False)"
   ]
  },
  {
   "cell_type": "code",
   "execution_count": 23,
   "id": "8ca37561",
   "metadata": {},
   "outputs": [
    {
     "data": {
      "text/plain": [
       "customer_profile\n",
       "Other                 76285\n",
       "Young parent          40588\n",
       "Retired               33845\n",
       "Active parent         31014\n",
       "Young single adult    13673\n",
       "Single adult          10399\n",
       "Luxus                   405\n",
       "Name: user_id, dtype: int64"
      ]
     },
     "execution_count": 23,
     "metadata": {},
     "output_type": "execute_result"
    }
   ],
   "source": [
    "# Checking unique customer profiles\n",
    "\n",
    "customer_profiles"
   ]
  },
  {
   "cell_type": "markdown",
   "id": "07ea5d4a",
   "metadata": {},
   "source": [
    "### 6) Visualization to show distribution of customer profiles"
   ]
  },
  {
   "cell_type": "code",
   "execution_count": 24,
   "id": "2af5cb07",
   "metadata": {
    "scrolled": true
   },
   "outputs": [
    {
     "data": {
      "image/png": "[encoded data removed]",
      "text/plain": [
       "<Figure size 432x288 with 1 Axes>"
      ]
     },
     "metadata": {
      "needs_background": "light"
     },
     "output_type": "display_data"
    }
   ],
   "source": [
    "# Distribution of customer profiles bar chart\n",
    "\n",
    "customer_profile_bar = customer_profiles.plot.bar( color =['#9f095b', '#973d60', '#8c5865', '#7e6e6a', '#6c836e', '#4f9673', '#00a878'], xlabel= 'Customer profiles', ylabel= 'Number of customers', title = 'Number of customers by customer profiles')\n",
    "plt.tight_layout()"
   ]
  },
  {
   "cell_type": "code",
   "execution_count": 25,
   "id": "e7f47c7b",
   "metadata": {},
   "outputs": [],
   "source": [
    "# Export the chart in the form of an image file\n",
    "\n",
    "customer_profile_bar.figure.savefig(os.path.join(path, '04 Analysis','Visualizations', 'customer_profiles_distribution_bar.png'))"
   ]
  },
  {
   "cell_type": "code",
   "execution_count": 26,
   "id": "87aed187",
   "metadata": {},
   "outputs": [
    {
     "data": {
      "image/png": "[encoded data removed]",
      "text/plain": [
       "<Figure size 432x288 with 1 Axes>"
      ]
     },
     "metadata": {},
     "output_type": "display_data"
    }
   ],
   "source": [
    "# Distribution of customer profiles  \n",
    "customers_pie = df_all['customer_profile'].value_counts().sort_index().plot.pie(autopct='%1.1f%%', colors = sns.color_palette('viridis',7), title = 'Customer Profiles')\n",
    "plt.ylabel('')\n",
    "plt.tight_layout()"
   ]
  },
  {
   "cell_type": "code",
   "execution_count": 27,
   "id": "1ff18a73",
   "metadata": {},
   "outputs": [],
   "source": [
    "# Export customer profiles\n",
    "\n",
    "customers_pie.figure.savefig(os.path.join(path, '04 Analysis','Visualizations', 'customers_pie.png'))"
   ]
  },
  {
   "cell_type": "markdown",
   "id": "0b56fd29",
   "metadata": {},
   "source": [
    "### 7) Aggregate the max, mean, and min variables on customer profile level for frequency and expenditure"
   ]
  },
  {
   "cell_type": "markdown",
   "id": "50244550",
   "metadata": {},
   "source": [
    "##### Descriptive Statistics for customer profiles "
   ]
  },
  {
   "cell_type": "code",
   "execution_count": 28,
   "id": "98658147",
   "metadata": {},
   "outputs": [],
   "source": [
    "# 1) Brand loyalty of customer profiles (The mean, min & max of usage frequency, grouped by customer_profile)\n",
    "\n",
    "shopping_frequency = df_all.groupby('customer_profile').agg({'days_since_prior_order': ['mean', 'min', 'max', 'sum']})"
   ]
  },
  {
   "cell_type": "code",
   "execution_count": 29,
   "id": "af8ac4fe",
   "metadata": {},
   "outputs": [
    {
     "data": {
      "text/html": [
       "<div>\n",
       "<style scoped>\n",
       "    .dataframe tbody tr th:only-of-type {\n",
       "        vertical-align: middle;\n",
       "    }\n",
       "\n",
       "    .dataframe tbody tr th {\n",
       "        vertical-align: top;\n",
       "    }\n",
       "\n",
       "    .dataframe thead tr th {\n",
       "        text-align: left;\n",
       "    }\n",
       "\n",
       "    .dataframe thead tr:last-of-type th {\n",
       "        text-align: right;\n",
       "    }\n",
       "</style>\n",
       "<table border=\"1\" class=\"dataframe\">\n",
       "  <thead>\n",
       "    <tr>\n",
       "      <th></th>\n",
       "      <th colspan=\"4\" halign=\"left\">days_since_prior_order</th>\n",
       "    </tr>\n",
       "    <tr>\n",
       "      <th></th>\n",
       "      <th>mean</th>\n",
       "      <th>min</th>\n",
       "      <th>max</th>\n",
       "      <th>sum</th>\n",
       "    </tr>\n",
       "    <tr>\n",
       "      <th>customer_profile</th>\n",
       "      <th></th>\n",
       "      <th></th>\n",
       "      <th></th>\n",
       "      <th></th>\n",
       "    </tr>\n",
       "  </thead>\n",
       "  <tbody>\n",
       "    <tr>\n",
       "      <th>Active parent</th>\n",
       "      <td>10.391295</td>\n",
       "      <td>0</td>\n",
       "      <td>30</td>\n",
       "      <td>54256037.0</td>\n",
       "    </tr>\n",
       "    <tr>\n",
       "      <th>Luxus</th>\n",
       "      <td>9.548750</td>\n",
       "      <td>0</td>\n",
       "      <td>30</td>\n",
       "      <td>1025297.0</td>\n",
       "    </tr>\n",
       "    <tr>\n",
       "      <th>Other</th>\n",
       "      <td>10.377217</td>\n",
       "      <td>0</td>\n",
       "      <td>30</td>\n",
       "      <td>121855679.0</td>\n",
       "    </tr>\n",
       "    <tr>\n",
       "      <th>Retired</th>\n",
       "      <td>10.424989</td>\n",
       "      <td>0</td>\n",
       "      <td>30</td>\n",
       "      <td>52778196.0</td>\n",
       "    </tr>\n",
       "    <tr>\n",
       "      <th>Single adult</th>\n",
       "      <td>10.357310</td>\n",
       "      <td>0</td>\n",
       "      <td>30</td>\n",
       "      <td>18049426.0</td>\n",
       "    </tr>\n",
       "    <tr>\n",
       "      <th>Young parent</th>\n",
       "      <td>10.397127</td>\n",
       "      <td>0</td>\n",
       "      <td>30</td>\n",
       "      <td>66487717.0</td>\n",
       "    </tr>\n",
       "    <tr>\n",
       "      <th>Young single adult</th>\n",
       "      <td>10.462390</td>\n",
       "      <td>0</td>\n",
       "      <td>30</td>\n",
       "      <td>22320652.0</td>\n",
       "    </tr>\n",
       "  </tbody>\n",
       "</table>\n",
       "</div>"
      ],
      "text/plain": [
       "                   days_since_prior_order                     \n",
       "                                     mean min max          sum\n",
       "customer_profile                                              \n",
       "Active parent                   10.391295   0  30   54256037.0\n",
       "Luxus                            9.548750   0  30    1025297.0\n",
       "Other                           10.377217   0  30  121855679.0\n",
       "Retired                         10.424989   0  30   52778196.0\n",
       "Single adult                    10.357310   0  30   18049426.0\n",
       "Young parent                    10.397127   0  30   66487717.0\n",
       "Young single adult              10.462390   0  30   22320652.0"
      ]
     },
     "execution_count": 29,
     "metadata": {},
     "output_type": "execute_result"
    }
   ],
   "source": [
    "# result\n",
    "\n",
    "shopping_frequency"
   ]
  },
  {
   "cell_type": "code",
   "execution_count": 30,
   "id": "cc1844b9",
   "metadata": {},
   "outputs": [],
   "source": [
    "# copy to clipboard\n",
    "\n",
    "shopping_frequency.to_clipboard()"
   ]
  },
  {
   "cell_type": "code",
   "execution_count": 31,
   "id": "000584a3",
   "metadata": {},
   "outputs": [],
   "source": [
    "# 2) differences in ordering habits regarding loyalty status\n",
    "ordering_by_profiles = pd.crosstab(df_all['customer_profile'], df_all['loyalty_flag'], dropna= False)"
   ]
  },
  {
   "cell_type": "code",
   "execution_count": 32,
   "id": "bdb34b63",
   "metadata": {
    "scrolled": true
   },
   "outputs": [
    {
     "data": {
      "image/png": "[encoded data removed]",
      "text/plain": [
       "<Figure size 432x288 with 1 Axes>"
      ]
     },
     "metadata": {
      "needs_background": "light"
     },
     "output_type": "display_data"
    }
   ],
   "source": [
    "ordering_habits = ordering_by_profiles.plot.bar(stacked = True, color = sns.color_palette('hls', 3), title= 'Ordering Habits of Customers')"
   ]
  },
  {
   "cell_type": "code",
   "execution_count": 33,
   "id": "5e3c8c4f",
   "metadata": {},
   "outputs": [],
   "source": [
    "# Exporting ordering habits of customer profiles\n",
    "\n",
    "ordering_habits.figure.savefig(os.path.join(path,'04 Analysis','Visualizations','ordering_habits_bar.png'))"
   ]
  },
  {
   "cell_type": "code",
   "execution_count": 35,
   "id": "7e7d6a08",
   "metadata": {},
   "outputs": [],
   "source": [
    "#Save the crosstab\n",
    "\n",
    "ordering_by_profiles.to_clipboard()"
   ]
  },
  {
   "cell_type": "code",
   "execution_count": 36,
   "id": "567c28e6",
   "metadata": {},
   "outputs": [],
   "source": [
    "# 3) Expenditure by customer profiles (Mean and sum of the expenditure, grouped by customer_profile)\n",
    "\n",
    "spending = df_all.groupby('customer_profile').agg({'prices': ['mean', 'sum']})"
   ]
  },
  {
   "cell_type": "code",
   "execution_count": 37,
   "id": "91bea4c4",
   "metadata": {},
   "outputs": [
    {
     "data": {
      "text/html": [
       "<div>\n",
       "<style scoped>\n",
       "    .dataframe tbody tr th:only-of-type {\n",
       "        vertical-align: middle;\n",
       "    }\n",
       "\n",
       "    .dataframe tbody tr th {\n",
       "        vertical-align: top;\n",
       "    }\n",
       "\n",
       "    .dataframe thead tr th {\n",
       "        text-align: left;\n",
       "    }\n",
       "\n",
       "    .dataframe thead tr:last-of-type th {\n",
       "        text-align: right;\n",
       "    }\n",
       "</style>\n",
       "<table border=\"1\" class=\"dataframe\">\n",
       "  <thead>\n",
       "    <tr>\n",
       "      <th></th>\n",
       "      <th colspan=\"2\" halign=\"left\">prices</th>\n",
       "    </tr>\n",
       "    <tr>\n",
       "      <th></th>\n",
       "      <th>mean</th>\n",
       "      <th>sum</th>\n",
       "    </tr>\n",
       "    <tr>\n",
       "      <th>customer_profile</th>\n",
       "      <th></th>\n",
       "      <th></th>\n",
       "    </tr>\n",
       "  </thead>\n",
       "  <tbody>\n",
       "    <tr>\n",
       "      <th>Active parent</th>\n",
       "      <td>7.962741</td>\n",
       "      <td>41572164.1</td>\n",
       "    </tr>\n",
       "    <tr>\n",
       "      <th>Luxus</th>\n",
       "      <td>7.826476</td>\n",
       "      <td>832384.9</td>\n",
       "    </tr>\n",
       "    <tr>\n",
       "      <th>Other</th>\n",
       "      <td>7.740111</td>\n",
       "      <td>90865244.6</td>\n",
       "    </tr>\n",
       "    <tr>\n",
       "      <th>Retired</th>\n",
       "      <td>7.680336</td>\n",
       "      <td>38881992.7</td>\n",
       "    </tr>\n",
       "    <tr>\n",
       "      <th>Single adult</th>\n",
       "      <td>7.964650</td>\n",
       "      <td>13878849.5</td>\n",
       "    </tr>\n",
       "    <tr>\n",
       "      <th>Young parent</th>\n",
       "      <td>7.786942</td>\n",
       "      <td>49794178.3</td>\n",
       "    </tr>\n",
       "    <tr>\n",
       "      <th>Young single adult</th>\n",
       "      <td>7.781820</td>\n",
       "      <td>16601306.5</td>\n",
       "    </tr>\n",
       "  </tbody>\n",
       "</table>\n",
       "</div>"
      ],
      "text/plain": [
       "                      prices            \n",
       "                        mean         sum\n",
       "customer_profile                        \n",
       "Active parent       7.962741  41572164.1\n",
       "Luxus               7.826476    832384.9\n",
       "Other               7.740111  90865244.6\n",
       "Retired             7.680336  38881992.7\n",
       "Single adult        7.964650  13878849.5\n",
       "Young parent        7.786942  49794178.3\n",
       "Young single adult  7.781820  16601306.5"
      ]
     },
     "execution_count": 37,
     "metadata": {},
     "output_type": "execute_result"
    }
   ],
   "source": [
    "#Result for expenditure\n",
    "spending"
   ]
  },
  {
   "cell_type": "code",
   "execution_count": 38,
   "id": "12e8af43",
   "metadata": {},
   "outputs": [],
   "source": [
    "# copy to clipboard\n",
    "\n",
    "spending.to_clipboard()"
   ]
  },
  {
   "cell_type": "code",
   "execution_count": 39,
   "id": "c1a06811",
   "metadata": {},
   "outputs": [
    {
     "data": {
      "image/png": "[encoded data removed]",
      "text/plain": [
       "<Figure size 432x288 with 1 Axes>"
      ]
     },
     "metadata": {
      "needs_background": "light"
     },
     "output_type": "display_data"
    }
   ],
   "source": [
    "## Total spending of Customer Profiles:\n",
    "\n",
    "# Create data set\n",
    "\n",
    "height = [41572164.1, 832384.9, 90865244.6, 38881992.7, 13878849.5, 49794178.3, 16601306.05]\n",
    "bars = ('Active parent', 'Luxus', 'Other', 'Retired', 'Single adult', 'Young parent', 'Young single adult')\n",
    "y_pos = np.arange(len(bars))\n",
    "\n",
    "#Create bars and colors, rotation of names on y axis\n",
    "plt.bar(y_pos, height, color = (0.5, 0.1, 0.5, 0.6))\n",
    "\n",
    "\n",
    "#Add title and axis name\n",
    "plt.title('Total spending by customers profiles')\n",
    "plt.xlabel('customer profiles')\n",
    "plt.ylabel('total spending')\n",
    "\n",
    "#Create names on the x axis\n",
    "plt.xticks(y_pos, bars, rotation=90)\n",
    "\n",
    "\n",
    "#Show graph\n",
    "plt.show()\n"
   ]
  },
  {
   "cell_type": "code",
   "execution_count": 40,
   "id": "1a9ca1c7",
   "metadata": {},
   "outputs": [
    {
     "data": {
      "text/plain": [
       "<Figure size 432x288 with 0 Axes>"
      ]
     },
     "metadata": {},
     "output_type": "display_data"
    }
   ],
   "source": [
    "# Exporting total spending of customer profiles\n",
    "\n",
    "plt.savefig('Total spending by customers profiles.png')"
   ]
  },
  {
   "cell_type": "code",
   "execution_count": 41,
   "id": "eef17bf0",
   "metadata": {},
   "outputs": [],
   "source": [
    "# 4) Differences in spending habits\n",
    "spending_by_profiles = pd.crosstab(df_all['customer_profile'], df_all['spending_flag'], dropna= False)"
   ]
  },
  {
   "cell_type": "code",
   "execution_count": 42,
   "id": "cf65d044",
   "metadata": {},
   "outputs": [],
   "source": [
    "#Copy\n",
    "\n",
    "spending_by_profiles.to_clipboard()"
   ]
  },
  {
   "cell_type": "code",
   "execution_count": 43,
   "id": "e485e9d3",
   "metadata": {},
   "outputs": [
    {
     "data": {
      "image/png": "[encoded data removed]",
      "text/plain": [
       "<Figure size 432x288 with 1 Axes>"
      ]
     },
     "metadata": {
      "needs_background": "light"
     },
     "output_type": "display_data"
    }
   ],
   "source": [
    "#Spending habits plot bar\n",
    "\n",
    "spending_habits = spending_by_profiles.plot.bar(stacked = True, color = sns.color_palette('husl', 2), title= 'Spending Habits')\n",
    "plt.tight_layout()"
   ]
  },
  {
   "cell_type": "code",
   "execution_count": 44,
   "id": "912f07e5",
   "metadata": {},
   "outputs": [],
   "source": [
    "# Exporting spending habits of customer profiles\n",
    "\n",
    "spending_habits.figure.savefig(os.path.join(path,'04 Analysis','Visualizations','spending_habits_bar.png'))"
   ]
  },
  {
   "cell_type": "markdown",
   "id": "3ea4e2ac",
   "metadata": {},
   "source": [
    "### 8) Compare customer profiles with regions and departments.\n",
    "### 9) Produce suitable charts to illustrate your results."
   ]
  },
  {
   "cell_type": "markdown",
   "id": "167fea2c",
   "metadata": {},
   "source": [
    "##### Customer profiles by regions"
   ]
  },
  {
   "cell_type": "code",
   "execution_count": 45,
   "id": "5c8950bc",
   "metadata": {},
   "outputs": [],
   "source": [
    "# crosstab of customer profiles & regions\n",
    "\n",
    "profiles_by_region = pd.crosstab(df_all['customer_profile'], df_all['region'], dropna = False)"
   ]
  },
  {
   "cell_type": "code",
   "execution_count": 46,
   "id": "44d1b122",
   "metadata": {},
   "outputs": [
    {
     "data": {
      "text/html": [
       "<div>\n",
       "<style scoped>\n",
       "    .dataframe tbody tr th:only-of-type {\n",
       "        vertical-align: middle;\n",
       "    }\n",
       "\n",
       "    .dataframe tbody tr th {\n",
       "        vertical-align: top;\n",
       "    }\n",
       "\n",
       "    .dataframe thead th {\n",
       "        text-align: right;\n",
       "    }\n",
       "</style>\n",
       "<table border=\"1\" class=\"dataframe\">\n",
       "  <thead>\n",
       "    <tr style=\"text-align: right;\">\n",
       "      <th>region</th>\n",
       "      <th>Midwest</th>\n",
       "      <th>Northeast</th>\n",
       "      <th>South</th>\n",
       "      <th>West</th>\n",
       "    </tr>\n",
       "    <tr>\n",
       "      <th>customer_profile</th>\n",
       "      <th></th>\n",
       "      <th></th>\n",
       "      <th></th>\n",
       "      <th></th>\n",
       "    </tr>\n",
       "  </thead>\n",
       "  <tbody>\n",
       "    <tr>\n",
       "      <th>Active parent</th>\n",
       "      <td>1231382</td>\n",
       "      <td>911347</td>\n",
       "      <td>1655272</td>\n",
       "      <td>1423296</td>\n",
       "    </tr>\n",
       "    <tr>\n",
       "      <th>Luxus</th>\n",
       "      <td>26405</td>\n",
       "      <td>15271</td>\n",
       "      <td>33068</td>\n",
       "      <td>32631</td>\n",
       "    </tr>\n",
       "    <tr>\n",
       "      <th>Other</th>\n",
       "      <td>2749334</td>\n",
       "      <td>2091986</td>\n",
       "      <td>3650851</td>\n",
       "      <td>3250445</td>\n",
       "    </tr>\n",
       "    <tr>\n",
       "      <th>Retired</th>\n",
       "      <td>1176598</td>\n",
       "      <td>904683</td>\n",
       "      <td>1574077</td>\n",
       "      <td>1407304</td>\n",
       "    </tr>\n",
       "    <tr>\n",
       "      <th>Single adult</th>\n",
       "      <td>432141</td>\n",
       "      <td>281084</td>\n",
       "      <td>546075</td>\n",
       "      <td>483375</td>\n",
       "    </tr>\n",
       "    <tr>\n",
       "      <th>Young parent</th>\n",
       "      <td>1500048</td>\n",
       "      <td>1122724</td>\n",
       "      <td>2021009</td>\n",
       "      <td>1751035</td>\n",
       "    </tr>\n",
       "    <tr>\n",
       "      <th>Young single adult</th>\n",
       "      <td>481417</td>\n",
       "      <td>395641</td>\n",
       "      <td>674509</td>\n",
       "      <td>581851</td>\n",
       "    </tr>\n",
       "  </tbody>\n",
       "</table>\n",
       "</div>"
      ],
      "text/plain": [
       "region              Midwest  Northeast    South     West\n",
       "customer_profile                                        \n",
       "Active parent       1231382     911347  1655272  1423296\n",
       "Luxus                 26405      15271    33068    32631\n",
       "Other               2749334    2091986  3650851  3250445\n",
       "Retired             1176598     904683  1574077  1407304\n",
       "Single adult         432141     281084   546075   483375\n",
       "Young parent        1500048    1122724  2021009  1751035\n",
       "Young single adult   481417     395641   674509   581851"
      ]
     },
     "execution_count": 46,
     "metadata": {},
     "output_type": "execute_result"
    }
   ],
   "source": [
    "# Result\n",
    "profiles_by_region"
   ]
  },
  {
   "cell_type": "code",
   "execution_count": 47,
   "id": "363d68aa",
   "metadata": {},
   "outputs": [],
   "source": [
    "#Copy to clipboard\n",
    "\n",
    "profiles_by_region.to_clipboard()"
   ]
  },
  {
   "cell_type": "code",
   "execution_count": 48,
   "id": "8d2e347d",
   "metadata": {},
   "outputs": [
    {
     "data": {
      "image/png": "[encoded data removed]",
      "text/plain": [
       "<Figure size 432x288 with 1 Axes>"
      ]
     },
     "metadata": {
      "needs_background": "light"
     },
     "output_type": "display_data"
    }
   ],
   "source": [
    "# All customers across regions\n",
    "\n",
    "regions_bar = df_all['region'].value_counts().sort_index().plot.bar(color = sns.color_palette('rocket', 4), title = 'Customers by regions')"
   ]
  },
  {
   "cell_type": "code",
   "execution_count": 49,
   "id": "3ea6a851",
   "metadata": {},
   "outputs": [],
   "source": [
    "#Export chart\n",
    "\n",
    "regions_bar.figure.savefig(os.path.join(path,'04 Analysis','Visualizations','regions_bar.png'))"
   ]
  },
  {
   "cell_type": "code",
   "execution_count": 50,
   "id": "7caf8a82",
   "metadata": {
    "scrolled": true
   },
   "outputs": [
    {
     "data": {
      "image/png": "[encoded data removed]",
      "text/plain": [
       "<Figure size 432x288 with 1 Axes>"
      ]
     },
     "metadata": {
      "needs_background": "light"
     },
     "output_type": "display_data"
    }
   ],
   "source": [
    "# Bar chart for regions by customer profiles\n",
    "\n",
    "regions_by_profiles = profiles_by_region.plot.bar(stacked = True, color = sns.color_palette('rocket', 4), title='Regions by customer profiles')"
   ]
  },
  {
   "cell_type": "code",
   "execution_count": 51,
   "id": "30b08e5d",
   "metadata": {},
   "outputs": [],
   "source": [
    "#Export chart\n",
    "\n",
    "regions_by_profiles.figure.savefig(os.path.join(path,'04 Analysis','Visualizations','regions_by_profiles.png'))"
   ]
  },
  {
   "cell_type": "code",
   "execution_count": 52,
   "id": "85377f9e",
   "metadata": {},
   "outputs": [],
   "source": [
    "#Crosstab region and customer profiles\n",
    "\n",
    "profiles_by_region1 = pd.crosstab(df_all['region'], df_all['customer_profile'], dropna = False)"
   ]
  },
  {
   "cell_type": "code",
   "execution_count": 53,
   "id": "443b66a6",
   "metadata": {
    "scrolled": true
   },
   "outputs": [
    {
     "data": {
      "text/html": [
       "<div>\n",
       "<style scoped>\n",
       "    .dataframe tbody tr th:only-of-type {\n",
       "        vertical-align: middle;\n",
       "    }\n",
       "\n",
       "    .dataframe tbody tr th {\n",
       "        vertical-align: top;\n",
       "    }\n",
       "\n",
       "    .dataframe thead th {\n",
       "        text-align: right;\n",
       "    }\n",
       "</style>\n",
       "<table border=\"1\" class=\"dataframe\">\n",
       "  <thead>\n",
       "    <tr style=\"text-align: right;\">\n",
       "      <th>customer_profile</th>\n",
       "      <th>Active parent</th>\n",
       "      <th>Luxus</th>\n",
       "      <th>Other</th>\n",
       "      <th>Retired</th>\n",
       "      <th>Single adult</th>\n",
       "      <th>Young parent</th>\n",
       "      <th>Young single adult</th>\n",
       "    </tr>\n",
       "    <tr>\n",
       "      <th>region</th>\n",
       "      <th></th>\n",
       "      <th></th>\n",
       "      <th></th>\n",
       "      <th></th>\n",
       "      <th></th>\n",
       "      <th></th>\n",
       "      <th></th>\n",
       "    </tr>\n",
       "  </thead>\n",
       "  <tbody>\n",
       "    <tr>\n",
       "      <th>Midwest</th>\n",
       "      <td>1231382</td>\n",
       "      <td>26405</td>\n",
       "      <td>2749334</td>\n",
       "      <td>1176598</td>\n",
       "      <td>432141</td>\n",
       "      <td>1500048</td>\n",
       "      <td>481417</td>\n",
       "    </tr>\n",
       "    <tr>\n",
       "      <th>Northeast</th>\n",
       "      <td>911347</td>\n",
       "      <td>15271</td>\n",
       "      <td>2091986</td>\n",
       "      <td>904683</td>\n",
       "      <td>281084</td>\n",
       "      <td>1122724</td>\n",
       "      <td>395641</td>\n",
       "    </tr>\n",
       "    <tr>\n",
       "      <th>South</th>\n",
       "      <td>1655272</td>\n",
       "      <td>33068</td>\n",
       "      <td>3650851</td>\n",
       "      <td>1574077</td>\n",
       "      <td>546075</td>\n",
       "      <td>2021009</td>\n",
       "      <td>674509</td>\n",
       "    </tr>\n",
       "    <tr>\n",
       "      <th>West</th>\n",
       "      <td>1423296</td>\n",
       "      <td>32631</td>\n",
       "      <td>3250445</td>\n",
       "      <td>1407304</td>\n",
       "      <td>483375</td>\n",
       "      <td>1751035</td>\n",
       "      <td>581851</td>\n",
       "    </tr>\n",
       "  </tbody>\n",
       "</table>\n",
       "</div>"
      ],
      "text/plain": [
       "customer_profile  Active parent  Luxus    Other  Retired  Single adult  \\\n",
       "region                                                                   \n",
       "Midwest                 1231382  26405  2749334  1176598        432141   \n",
       "Northeast                911347  15271  2091986   904683        281084   \n",
       "South                   1655272  33068  3650851  1574077        546075   \n",
       "West                    1423296  32631  3250445  1407304        483375   \n",
       "\n",
       "customer_profile  Young parent  Young single adult  \n",
       "region                                              \n",
       "Midwest                1500048              481417  \n",
       "Northeast              1122724              395641  \n",
       "South                  2021009              674509  \n",
       "West                   1751035              581851  "
      ]
     },
     "execution_count": 53,
     "metadata": {},
     "output_type": "execute_result"
    }
   ],
   "source": [
    "profiles_by_region1"
   ]
  },
  {
   "cell_type": "code",
   "execution_count": 54,
   "id": "4dd98c74",
   "metadata": {},
   "outputs": [],
   "source": [
    "#Copy to clipboard\n",
    "\n",
    "profiles_by_region1.to_clipboard()"
   ]
  },
  {
   "cell_type": "code",
   "execution_count": 55,
   "id": "66234ab9",
   "metadata": {
    "scrolled": false
   },
   "outputs": [
    {
     "data": {
      "image/png": "[encoded data removed]",
      "text/plain": [
       "<Figure size 432x288 with 1 Axes>"
      ]
     },
     "metadata": {
      "needs_background": "light"
     },
     "output_type": "display_data"
    }
   ],
   "source": [
    "#Bar chart profiles by regions\n",
    "\n",
    "profiles_by_regions = profiles_by_region1.plot.bar(stacked = True, color = sns.color_palette('Set2', 7), title= 'Customer profiles by regions')\n",
    "plt.legend(loc='center left', bbox_to_anchor=(1, 0.5))\n",
    "plt.tight_layout()"
   ]
  },
  {
   "cell_type": "code",
   "execution_count": 56,
   "id": "93be7d79",
   "metadata": {},
   "outputs": [],
   "source": [
    "#Export chart\n",
    "\n",
    "profiles_by_regions.figure.savefig(os.path.join(path,'04 Analysis','Visualizations','profiles_by_regions.png'))"
   ]
  },
  {
   "cell_type": "code",
   "execution_count": 57,
   "id": "be04f1ac",
   "metadata": {},
   "outputs": [],
   "source": [
    "#Crosstab prices and customer profiles\n",
    "\n",
    "profiles_by_price_range = pd.crosstab(df_all['price_range_loc'], df_all['customer_profile'], dropna = False)"
   ]
  },
  {
   "cell_type": "code",
   "execution_count": 58,
   "id": "81dfe8ce",
   "metadata": {
    "scrolled": true
   },
   "outputs": [
    {
     "data": {
      "text/html": [
       "<div>\n",
       "<style scoped>\n",
       "    .dataframe tbody tr th:only-of-type {\n",
       "        vertical-align: middle;\n",
       "    }\n",
       "\n",
       "    .dataframe tbody tr th {\n",
       "        vertical-align: top;\n",
       "    }\n",
       "\n",
       "    .dataframe thead th {\n",
       "        text-align: right;\n",
       "    }\n",
       "</style>\n",
       "<table border=\"1\" class=\"dataframe\">\n",
       "  <thead>\n",
       "    <tr style=\"text-align: right;\">\n",
       "      <th>customer_profile</th>\n",
       "      <th>Active parent</th>\n",
       "      <th>Luxus</th>\n",
       "      <th>Other</th>\n",
       "      <th>Retired</th>\n",
       "      <th>Single adult</th>\n",
       "      <th>Young parent</th>\n",
       "      <th>Young single adult</th>\n",
       "    </tr>\n",
       "    <tr>\n",
       "      <th>price_range_loc</th>\n",
       "      <th></th>\n",
       "      <th></th>\n",
       "      <th></th>\n",
       "      <th></th>\n",
       "      <th></th>\n",
       "      <th></th>\n",
       "      <th></th>\n",
       "    </tr>\n",
       "  </thead>\n",
       "  <tbody>\n",
       "    <tr>\n",
       "      <th>High-range product</th>\n",
       "      <td>73299</td>\n",
       "      <td>2641</td>\n",
       "      <td>147870</td>\n",
       "      <td>61614</td>\n",
       "      <td>23784</td>\n",
       "      <td>82162</td>\n",
       "      <td>26308</td>\n",
       "    </tr>\n",
       "    <tr>\n",
       "      <th>Low-range product</th>\n",
       "      <td>1549912</td>\n",
       "      <td>33008</td>\n",
       "      <td>3724433</td>\n",
       "      <td>1636486</td>\n",
       "      <td>515367</td>\n",
       "      <td>1998628</td>\n",
       "      <td>668487</td>\n",
       "    </tr>\n",
       "    <tr>\n",
       "      <th>Mid-range product</th>\n",
       "      <td>3598086</td>\n",
       "      <td>71726</td>\n",
       "      <td>7870313</td>\n",
       "      <td>3364562</td>\n",
       "      <td>1203524</td>\n",
       "      <td>4314026</td>\n",
       "      <td>1438623</td>\n",
       "    </tr>\n",
       "  </tbody>\n",
       "</table>\n",
       "</div>"
      ],
      "text/plain": [
       "customer_profile    Active parent  Luxus    Other  Retired  Single adult  \\\n",
       "price_range_loc                                                            \n",
       "High-range product          73299   2641   147870    61614         23784   \n",
       "Low-range product         1549912  33008  3724433  1636486        515367   \n",
       "Mid-range product         3598086  71726  7870313  3364562       1203524   \n",
       "\n",
       "customer_profile    Young parent  Young single adult  \n",
       "price_range_loc                                       \n",
       "High-range product         82162               26308  \n",
       "Low-range product        1998628              668487  \n",
       "Mid-range product        4314026             1438623  "
      ]
     },
     "execution_count": 58,
     "metadata": {},
     "output_type": "execute_result"
    }
   ],
   "source": [
    "profiles_by_price_range"
   ]
  },
  {
   "cell_type": "code",
   "execution_count": 59,
   "id": "8c9a5cc2",
   "metadata": {},
   "outputs": [
    {
     "data": {
      "image/png": "[encoded data removed]",
      "text/plain": [
       "<Figure size 432x288 with 1 Axes>"
      ]
     },
     "metadata": {
      "needs_background": "light"
     },
     "output_type": "display_data"
    }
   ],
   "source": [
    "#Bar chart profiles by regions\n",
    "\n",
    "profiles_by_price = profiles_by_price_range.plot.bar(stacked = True, color = sns.color_palette('pastel', 7), title= 'Customer profiles by price range')\n",
    "plt.legend(loc='center left', bbox_to_anchor=(1, 0.5))\n",
    "plt.tight_layout()"
   ]
  },
  {
   "cell_type": "code",
   "execution_count": 60,
   "id": "ef108f61",
   "metadata": {},
   "outputs": [],
   "source": [
    "#Export chart\n",
    "\n",
    "profiles_by_price.figure.savefig(os.path.join(path,'04 Analysis','Visualizations','profiles_by_price_range.png'))"
   ]
  },
  {
   "cell_type": "code",
   "execution_count": 61,
   "id": "2c00fd02",
   "metadata": {},
   "outputs": [],
   "source": [
    "#Crosstab loyalty and customer profiles\n",
    "\n",
    "profiles_by_loyalty = pd.crosstab(df_all['loyalty_flag'], df_all['customer_profile'], dropna = False)"
   ]
  },
  {
   "cell_type": "code",
   "execution_count": 62,
   "id": "61910ac3",
   "metadata": {
    "scrolled": true
   },
   "outputs": [
    {
     "data": {
      "text/html": [
       "<div>\n",
       "<style scoped>\n",
       "    .dataframe tbody tr th:only-of-type {\n",
       "        vertical-align: middle;\n",
       "    }\n",
       "\n",
       "    .dataframe tbody tr th {\n",
       "        vertical-align: top;\n",
       "    }\n",
       "\n",
       "    .dataframe thead th {\n",
       "        text-align: right;\n",
       "    }\n",
       "</style>\n",
       "<table border=\"1\" class=\"dataframe\">\n",
       "  <thead>\n",
       "    <tr style=\"text-align: right;\">\n",
       "      <th>customer_profile</th>\n",
       "      <th>Active parent</th>\n",
       "      <th>Luxus</th>\n",
       "      <th>Other</th>\n",
       "      <th>Retired</th>\n",
       "      <th>Single adult</th>\n",
       "      <th>Young parent</th>\n",
       "      <th>Young single adult</th>\n",
       "    </tr>\n",
       "    <tr>\n",
       "      <th>loyalty_flag</th>\n",
       "      <th></th>\n",
       "      <th></th>\n",
       "      <th></th>\n",
       "      <th></th>\n",
       "      <th></th>\n",
       "      <th></th>\n",
       "      <th></th>\n",
       "    </tr>\n",
       "  </thead>\n",
       "  <tbody>\n",
       "    <tr>\n",
       "      <th>Loyal customer</th>\n",
       "      <td>1670059</td>\n",
       "      <td>44767</td>\n",
       "      <td>3746381</td>\n",
       "      <td>1592755</td>\n",
       "      <td>554856</td>\n",
       "      <td>2012947</td>\n",
       "      <td>662328</td>\n",
       "    </tr>\n",
       "    <tr>\n",
       "      <th>New customer</th>\n",
       "      <td>982998</td>\n",
       "      <td>10317</td>\n",
       "      <td>2279579</td>\n",
       "      <td>995556</td>\n",
       "      <td>322749</td>\n",
       "      <td>1231017</td>\n",
       "      <td>421774</td>\n",
       "    </tr>\n",
       "    <tr>\n",
       "      <th>Regular customer</th>\n",
       "      <td>2568240</td>\n",
       "      <td>52291</td>\n",
       "      <td>5716656</td>\n",
       "      <td>2474351</td>\n",
       "      <td>865070</td>\n",
       "      <td>3150852</td>\n",
       "      <td>1049316</td>\n",
       "    </tr>\n",
       "  </tbody>\n",
       "</table>\n",
       "</div>"
      ],
      "text/plain": [
       "customer_profile  Active parent  Luxus    Other  Retired  Single adult  \\\n",
       "loyalty_flag                                                             \n",
       "Loyal customer          1670059  44767  3746381  1592755        554856   \n",
       "New customer             982998  10317  2279579   995556        322749   \n",
       "Regular customer        2568240  52291  5716656  2474351        865070   \n",
       "\n",
       "customer_profile  Young parent  Young single adult  \n",
       "loyalty_flag                                        \n",
       "Loyal customer         2012947              662328  \n",
       "New customer           1231017              421774  \n",
       "Regular customer       3150852             1049316  "
      ]
     },
     "execution_count": 62,
     "metadata": {},
     "output_type": "execute_result"
    }
   ],
   "source": [
    "profiles_by_loyalty"
   ]
  },
  {
   "cell_type": "code",
   "execution_count": 63,
   "id": "a2e16bce",
   "metadata": {},
   "outputs": [],
   "source": [
    "#Copy to clipboard\n",
    "\n",
    "profiles_by_loyalty.to_clipboard()"
   ]
  },
  {
   "cell_type": "code",
   "execution_count": 64,
   "id": "c0aa0c37",
   "metadata": {},
   "outputs": [
    {
     "data": {
      "image/png": "[encoded data removed]",
      "text/plain": [
       "<Figure size 432x288 with 1 Axes>"
      ]
     },
     "metadata": {
      "needs_background": "light"
     },
     "output_type": "display_data"
    }
   ],
   "source": [
    "profiles_by_loyalty_bar = profiles_by_loyalty.plot.bar(stacked = True, color = sns.color_palette('pastel', 7), title= 'Customer profiles by loyalty')\n",
    "plt.legend(loc='center left', bbox_to_anchor=(1, 0.5))\n",
    "plt.tight_layout()"
   ]
  },
  {
   "cell_type": "code",
   "execution_count": 65,
   "id": "20b32992",
   "metadata": {},
   "outputs": [],
   "source": [
    "#Export chart\n",
    "\n",
    "profiles_by_loyalty_bar.figure.savefig(os.path.join(path,'04 Analysis','Visualizations','profiles_by_loyalty.png'))"
   ]
  },
  {
   "cell_type": "code",
   "execution_count": 66,
   "id": "86c3250b",
   "metadata": {},
   "outputs": [],
   "source": [
    "#Crosstab order frequency and customer profiles\n",
    "\n",
    "profiles_by_order_frequency = pd.crosstab(df_all['frequency_flag'], df_all['customer_profile'], dropna = False)"
   ]
  },
  {
   "cell_type": "code",
   "execution_count": 155,
   "id": "032966e7",
   "metadata": {
    "scrolled": true
   },
   "outputs": [
    {
     "data": {
      "text/html": [
       "<div>\n",
       "<style scoped>\n",
       "    .dataframe tbody tr th:only-of-type {\n",
       "        vertical-align: middle;\n",
       "    }\n",
       "\n",
       "    .dataframe tbody tr th {\n",
       "        vertical-align: top;\n",
       "    }\n",
       "\n",
       "    .dataframe thead th {\n",
       "        text-align: right;\n",
       "    }\n",
       "</style>\n",
       "<table border=\"1\" class=\"dataframe\">\n",
       "  <thead>\n",
       "    <tr style=\"text-align: right;\">\n",
       "      <th>customer_profile</th>\n",
       "      <th>Active parent</th>\n",
       "      <th>Luxus</th>\n",
       "      <th>Other</th>\n",
       "      <th>Retired</th>\n",
       "      <th>Single adult</th>\n",
       "      <th>Young parent</th>\n",
       "      <th>Young single adult</th>\n",
       "    </tr>\n",
       "    <tr>\n",
       "      <th>frequency_flag</th>\n",
       "      <th></th>\n",
       "      <th></th>\n",
       "      <th></th>\n",
       "      <th></th>\n",
       "      <th></th>\n",
       "      <th></th>\n",
       "      <th></th>\n",
       "    </tr>\n",
       "  </thead>\n",
       "  <tbody>\n",
       "    <tr>\n",
       "      <th>Frequent customer</th>\n",
       "      <td>3694023</td>\n",
       "      <td>78260</td>\n",
       "      <td>8253441</td>\n",
       "      <td>3557410</td>\n",
       "      <td>1231122</td>\n",
       "      <td>4494519</td>\n",
       "      <td>1487884</td>\n",
       "    </tr>\n",
       "    <tr>\n",
       "      <th>Non-frequent customer</th>\n",
       "      <td>420461</td>\n",
       "      <td>6797</td>\n",
       "      <td>983271</td>\n",
       "      <td>428659</td>\n",
       "      <td>135524</td>\n",
       "      <td>537104</td>\n",
       "      <td>174912</td>\n",
       "    </tr>\n",
       "    <tr>\n",
       "      <th>Regular customer</th>\n",
       "      <td>1106813</td>\n",
       "      <td>22318</td>\n",
       "      <td>2505904</td>\n",
       "      <td>1076593</td>\n",
       "      <td>376029</td>\n",
       "      <td>1363193</td>\n",
       "      <td>470622</td>\n",
       "    </tr>\n",
       "  </tbody>\n",
       "</table>\n",
       "</div>"
      ],
      "text/plain": [
       "customer_profile       Active parent  Luxus    Other  Retired  Single adult  \\\n",
       "frequency_flag                                                                \n",
       "Frequent customer            3694023  78260  8253441  3557410       1231122   \n",
       "Non-frequent customer         420461   6797   983271   428659        135524   \n",
       "Regular customer             1106813  22318  2505904  1076593        376029   \n",
       "\n",
       "customer_profile       Young parent  Young single adult  \n",
       "frequency_flag                                           \n",
       "Frequent customer           4494519             1487884  \n",
       "Non-frequent customer        537104              174912  \n",
       "Regular customer            1363193              470622  "
      ]
     },
     "execution_count": 155,
     "metadata": {},
     "output_type": "execute_result"
    }
   ],
   "source": [
    "profiles_by_order_frequency"
   ]
  },
  {
   "cell_type": "code",
   "execution_count": 68,
   "id": "73d76153",
   "metadata": {},
   "outputs": [],
   "source": [
    "# Copy to clipboard\n",
    "\n",
    "profiles_by_order_frequency.to_clipboard()"
   ]
  },
  {
   "cell_type": "code",
   "execution_count": 69,
   "id": "f1ad7041",
   "metadata": {},
   "outputs": [
    {
     "data": {
      "image/png": "[encoded data removed]",
      "text/plain": [
       "<Figure size 432x288 with 1 Axes>"
      ]
     },
     "metadata": {
      "needs_background": "light"
     },
     "output_type": "display_data"
    }
   ],
   "source": [
    "profiles_by_frequency_bar = profiles_by_order_frequency.plot.bar(stacked = True, color = sns.color_palette('Set2', 7), title= 'Customer profiles by order frequency')\n",
    "plt.legend(loc='center left', bbox_to_anchor=(1, 0.5))\n",
    "plt.tight_layout()"
   ]
  },
  {
   "cell_type": "code",
   "execution_count": 70,
   "id": "7ad10583",
   "metadata": {},
   "outputs": [],
   "source": [
    "#Export chart\n",
    "\n",
    "profiles_by_frequency_bar.figure.savefig(os.path.join(path,'04 Analysis','Visualizations','profiles_by_orders.png'))"
   ]
  },
  {
   "cell_type": "code",
   "execution_count": 71,
   "id": "455336e2",
   "metadata": {},
   "outputs": [],
   "source": [
    "#Crosstab order depts and customer profiles\n",
    "\n",
    "profiles_by_departments = pd.crosstab(df_all['department'], df_all['customer_profile'], dropna = False)"
   ]
  },
  {
   "cell_type": "code",
   "execution_count": 72,
   "id": "1db37e0e",
   "metadata": {},
   "outputs": [
    {
     "data": {
      "text/html": [
       "<div>\n",
       "<style scoped>\n",
       "    .dataframe tbody tr th:only-of-type {\n",
       "        vertical-align: middle;\n",
       "    }\n",
       "\n",
       "    .dataframe tbody tr th {\n",
       "        vertical-align: top;\n",
       "    }\n",
       "\n",
       "    .dataframe thead th {\n",
       "        text-align: right;\n",
       "    }\n",
       "</style>\n",
       "<table border=\"1\" class=\"dataframe\">\n",
       "  <thead>\n",
       "    <tr style=\"text-align: right;\">\n",
       "      <th>customer_profile</th>\n",
       "      <th>Active parent</th>\n",
       "      <th>Luxus</th>\n",
       "      <th>Other</th>\n",
       "      <th>Retired</th>\n",
       "      <th>Single adult</th>\n",
       "      <th>Young parent</th>\n",
       "      <th>Young single adult</th>\n",
       "    </tr>\n",
       "    <tr>\n",
       "      <th>department</th>\n",
       "      <th></th>\n",
       "      <th></th>\n",
       "      <th></th>\n",
       "      <th></th>\n",
       "      <th></th>\n",
       "      <th></th>\n",
       "      <th></th>\n",
       "    </tr>\n",
       "  </thead>\n",
       "  <tbody>\n",
       "    <tr>\n",
       "      <th>NaN</th>\n",
       "      <td>10954</td>\n",
       "      <td>106</td>\n",
       "      <td>24853</td>\n",
       "      <td>10623</td>\n",
       "      <td>3796</td>\n",
       "      <td>13942</td>\n",
       "      <td>4871</td>\n",
       "    </tr>\n",
       "    <tr>\n",
       "      <th>alcohol</th>\n",
       "      <td>22404</td>\n",
       "      <td>1999</td>\n",
       "      <td>58821</td>\n",
       "      <td>21893</td>\n",
       "      <td>9258</td>\n",
       "      <td>29906</td>\n",
       "      <td>9415</td>\n",
       "    </tr>\n",
       "    <tr>\n",
       "      <th>babies</th>\n",
       "      <td>73125</td>\n",
       "      <td>939</td>\n",
       "      <td>151968</td>\n",
       "      <td>62152</td>\n",
       "      <td>25583</td>\n",
       "      <td>81532</td>\n",
       "      <td>28503</td>\n",
       "    </tr>\n",
       "    <tr>\n",
       "      <th>bakery</th>\n",
       "      <td>191847</td>\n",
       "      <td>5207</td>\n",
       "      <td>422473</td>\n",
       "      <td>179695</td>\n",
       "      <td>65489</td>\n",
       "      <td>229878</td>\n",
       "      <td>77839</td>\n",
       "    </tr>\n",
       "    <tr>\n",
       "      <th>beverages</th>\n",
       "      <td>410439</td>\n",
       "      <td>9775</td>\n",
       "      <td>996357</td>\n",
       "      <td>434069</td>\n",
       "      <td>138180</td>\n",
       "      <td>522867</td>\n",
       "      <td>176436</td>\n",
       "    </tr>\n",
       "    <tr>\n",
       "      <th>breakfast</th>\n",
       "      <td>107604</td>\n",
       "      <td>2646</td>\n",
       "      <td>258935</td>\n",
       "      <td>111068</td>\n",
       "      <td>36279</td>\n",
       "      <td>140298</td>\n",
       "      <td>46203</td>\n",
       "    </tr>\n",
       "    <tr>\n",
       "      <th>bulk</th>\n",
       "      <td>5253</td>\n",
       "      <td>15</td>\n",
       "      <td>12472</td>\n",
       "      <td>5755</td>\n",
       "      <td>1796</td>\n",
       "      <td>7049</td>\n",
       "      <td>2233</td>\n",
       "    </tr>\n",
       "    <tr>\n",
       "      <th>canned goods</th>\n",
       "      <td>178706</td>\n",
       "      <td>3799</td>\n",
       "      <td>380935</td>\n",
       "      <td>162574</td>\n",
       "      <td>59797</td>\n",
       "      <td>212230</td>\n",
       "      <td>70017</td>\n",
       "    </tr>\n",
       "    <tr>\n",
       "      <th>dairy eggs</th>\n",
       "      <td>880630</td>\n",
       "      <td>19161</td>\n",
       "      <td>1943967</td>\n",
       "      <td>833661</td>\n",
       "      <td>293163</td>\n",
       "      <td>1072187</td>\n",
       "      <td>355978</td>\n",
       "    </tr>\n",
       "    <tr>\n",
       "      <th>deli</th>\n",
       "      <td>170454</td>\n",
       "      <td>2972</td>\n",
       "      <td>381818</td>\n",
       "      <td>163359</td>\n",
       "      <td>56244</td>\n",
       "      <td>206845</td>\n",
       "      <td>69557</td>\n",
       "    </tr>\n",
       "    <tr>\n",
       "      <th>dry goods pasta</th>\n",
       "      <td>145451</td>\n",
       "      <td>2925</td>\n",
       "      <td>308965</td>\n",
       "      <td>132264</td>\n",
       "      <td>47947</td>\n",
       "      <td>171531</td>\n",
       "      <td>57544</td>\n",
       "    </tr>\n",
       "    <tr>\n",
       "      <th>frozen</th>\n",
       "      <td>362724</td>\n",
       "      <td>8355</td>\n",
       "      <td>809726</td>\n",
       "      <td>347736</td>\n",
       "      <td>122282</td>\n",
       "      <td>439254</td>\n",
       "      <td>144666</td>\n",
       "    </tr>\n",
       "    <tr>\n",
       "      <th>household</th>\n",
       "      <td>116766</td>\n",
       "      <td>4863</td>\n",
       "      <td>273262</td>\n",
       "      <td>116809</td>\n",
       "      <td>37345</td>\n",
       "      <td>142140</td>\n",
       "      <td>47481</td>\n",
       "    </tr>\n",
       "    <tr>\n",
       "      <th>international</th>\n",
       "      <td>44240</td>\n",
       "      <td>878</td>\n",
       "      <td>95884</td>\n",
       "      <td>41047</td>\n",
       "      <td>15414</td>\n",
       "      <td>53541</td>\n",
       "      <td>18249</td>\n",
       "    </tr>\n",
       "    <tr>\n",
       "      <th>meat seafood</th>\n",
       "      <td>124307</td>\n",
       "      <td>2857</td>\n",
       "      <td>248783</td>\n",
       "      <td>106337</td>\n",
       "      <td>40755</td>\n",
       "      <td>140646</td>\n",
       "      <td>45242</td>\n",
       "    </tr>\n",
       "    <tr>\n",
       "      <th>other</th>\n",
       "      <td>5517</td>\n",
       "      <td>168</td>\n",
       "      <td>13417</td>\n",
       "      <td>5550</td>\n",
       "      <td>2028</td>\n",
       "      <td>7221</td>\n",
       "      <td>2390</td>\n",
       "    </tr>\n",
       "    <tr>\n",
       "      <th>pantry</th>\n",
       "      <td>309443</td>\n",
       "      <td>6953</td>\n",
       "      <td>674039</td>\n",
       "      <td>289676</td>\n",
       "      <td>102194</td>\n",
       "      <td>369707</td>\n",
       "      <td>123357</td>\n",
       "    </tr>\n",
       "    <tr>\n",
       "      <th>personal care</th>\n",
       "      <td>72152</td>\n",
       "      <td>1478</td>\n",
       "      <td>164896</td>\n",
       "      <td>68813</td>\n",
       "      <td>23894</td>\n",
       "      <td>86849</td>\n",
       "      <td>29490</td>\n",
       "    </tr>\n",
       "    <tr>\n",
       "      <th>pets</th>\n",
       "      <td>16166</td>\n",
       "      <td>717</td>\n",
       "      <td>34495</td>\n",
       "      <td>14602</td>\n",
       "      <td>5864</td>\n",
       "      <td>19431</td>\n",
       "      <td>6441</td>\n",
       "    </tr>\n",
       "    <tr>\n",
       "      <th>produce</th>\n",
       "      <td>1571226</td>\n",
       "      <td>22234</td>\n",
       "      <td>3396739</td>\n",
       "      <td>1466141</td>\n",
       "      <td>521887</td>\n",
       "      <td>1873756</td>\n",
       "      <td>627308</td>\n",
       "    </tr>\n",
       "    <tr>\n",
       "      <th>snacks</th>\n",
       "      <td>401889</td>\n",
       "      <td>9328</td>\n",
       "      <td>1089811</td>\n",
       "      <td>488838</td>\n",
       "      <td>133480</td>\n",
       "      <td>574006</td>\n",
       "      <td>190198</td>\n",
       "    </tr>\n",
       "  </tbody>\n",
       "</table>\n",
       "</div>"
      ],
      "text/plain": [
       "customer_profile  Active parent  Luxus    Other  Retired  Single adult  \\\n",
       "department                                                               \n",
       "NaN                       10954    106    24853    10623          3796   \n",
       "alcohol                   22404   1999    58821    21893          9258   \n",
       "babies                    73125    939   151968    62152         25583   \n",
       "bakery                   191847   5207   422473   179695         65489   \n",
       "beverages                410439   9775   996357   434069        138180   \n",
       "breakfast                107604   2646   258935   111068         36279   \n",
       "bulk                       5253     15    12472     5755          1796   \n",
       "canned goods             178706   3799   380935   162574         59797   \n",
       "dairy eggs               880630  19161  1943967   833661        293163   \n",
       "deli                     170454   2972   381818   163359         56244   \n",
       "dry goods pasta          145451   2925   308965   132264         47947   \n",
       "frozen                   362724   8355   809726   347736        122282   \n",
       "household                116766   4863   273262   116809         37345   \n",
       "international             44240    878    95884    41047         15414   \n",
       "meat seafood             124307   2857   248783   106337         40755   \n",
       "other                      5517    168    13417     5550          2028   \n",
       "pantry                   309443   6953   674039   289676        102194   \n",
       "personal care             72152   1478   164896    68813         23894   \n",
       "pets                      16166    717    34495    14602          5864   \n",
       "produce                 1571226  22234  3396739  1466141        521887   \n",
       "snacks                   401889   9328  1089811   488838        133480   \n",
       "\n",
       "customer_profile  Young parent  Young single adult  \n",
       "department                                          \n",
       "NaN                      13942                4871  \n",
       "alcohol                  29906                9415  \n",
       "babies                   81532               28503  \n",
       "bakery                  229878               77839  \n",
       "beverages               522867              176436  \n",
       "breakfast               140298               46203  \n",
       "bulk                      7049                2233  \n",
       "canned goods            212230               70017  \n",
       "dairy eggs             1072187              355978  \n",
       "deli                    206845               69557  \n",
       "dry goods pasta         171531               57544  \n",
       "frozen                  439254              144666  \n",
       "household               142140               47481  \n",
       "international            53541               18249  \n",
       "meat seafood            140646               45242  \n",
       "other                     7221                2390  \n",
       "pantry                  369707              123357  \n",
       "personal care            86849               29490  \n",
       "pets                     19431                6441  \n",
       "produce                1873756              627308  \n",
       "snacks                  574006              190198  "
      ]
     },
     "execution_count": 72,
     "metadata": {},
     "output_type": "execute_result"
    }
   ],
   "source": [
    "profiles_by_departments"
   ]
  },
  {
   "cell_type": "code",
   "execution_count": 73,
   "id": "e4f4a74c",
   "metadata": {},
   "outputs": [
    {
     "data": {
      "image/png": "[encoded data removed]",
      "text/plain": [
       "<Figure size 432x288 with 1 Axes>"
      ]
     },
     "metadata": {
      "needs_background": "light"
     },
     "output_type": "display_data"
    }
   ],
   "source": [
    "#Bar\n",
    "\n",
    "profiles_by_departments_bar = profiles_by_departments.plot.bar(stacked = True, color = sns.color_palette('rocket', 7), title= 'Customer profiles by department')\n",
    "plt.legend(loc='center left', bbox_to_anchor=(1, 0.5))\n",
    "plt.tight_layout()"
   ]
  },
  {
   "cell_type": "code",
   "execution_count": 74,
   "id": "1b7c16c7",
   "metadata": {},
   "outputs": [],
   "source": [
    "#Export chart\n",
    "\n",
    "profiles_by_departments_bar.figure.savefig(os.path.join(path,'04 Analysis','Visualizations','profiles_by_departments.png'))"
   ]
  },
  {
   "cell_type": "code",
   "execution_count": 75,
   "id": "9db5a39f",
   "metadata": {},
   "outputs": [],
   "source": [
    "#Crosstab order depts and customer profiles\n",
    "\n",
    "profiles_by_spending = pd.crosstab(df_all['spending_flag'], df_all['customer_profile'], dropna = False)"
   ]
  },
  {
   "cell_type": "code",
   "execution_count": 76,
   "id": "286c3007",
   "metadata": {
    "scrolled": true
   },
   "outputs": [
    {
     "data": {
      "text/html": [
       "<div>\n",
       "<style scoped>\n",
       "    .dataframe tbody tr th:only-of-type {\n",
       "        vertical-align: middle;\n",
       "    }\n",
       "\n",
       "    .dataframe tbody tr th {\n",
       "        vertical-align: top;\n",
       "    }\n",
       "\n",
       "    .dataframe thead th {\n",
       "        text-align: right;\n",
       "    }\n",
       "</style>\n",
       "<table border=\"1\" class=\"dataframe\">\n",
       "  <thead>\n",
       "    <tr style=\"text-align: right;\">\n",
       "      <th>customer_profile</th>\n",
       "      <th>Active parent</th>\n",
       "      <th>Luxus</th>\n",
       "      <th>Other</th>\n",
       "      <th>Retired</th>\n",
       "      <th>Single adult</th>\n",
       "      <th>Young parent</th>\n",
       "      <th>Young single adult</th>\n",
       "    </tr>\n",
       "    <tr>\n",
       "      <th>spending_flag</th>\n",
       "      <th></th>\n",
       "      <th></th>\n",
       "      <th></th>\n",
       "      <th></th>\n",
       "      <th></th>\n",
       "      <th></th>\n",
       "      <th></th>\n",
       "    </tr>\n",
       "  </thead>\n",
       "  <tbody>\n",
       "    <tr>\n",
       "      <th>High spender</th>\n",
       "      <td>73434</td>\n",
       "      <td>107375</td>\n",
       "      <td>336743</td>\n",
       "      <td>33868</td>\n",
       "      <td>22212</td>\n",
       "      <td>48314</td>\n",
       "      <td>12299</td>\n",
       "    </tr>\n",
       "    <tr>\n",
       "      <th>Low spender</th>\n",
       "      <td>5147863</td>\n",
       "      <td>0</td>\n",
       "      <td>11405873</td>\n",
       "      <td>5028794</td>\n",
       "      <td>1720463</td>\n",
       "      <td>6346502</td>\n",
       "      <td>2121119</td>\n",
       "    </tr>\n",
       "  </tbody>\n",
       "</table>\n",
       "</div>"
      ],
      "text/plain": [
       "customer_profile  Active parent   Luxus     Other  Retired  Single adult  \\\n",
       "spending_flag                                                              \n",
       "High spender              73434  107375    336743    33868         22212   \n",
       "Low spender             5147863       0  11405873  5028794       1720463   \n",
       "\n",
       "customer_profile  Young parent  Young single adult  \n",
       "spending_flag                                       \n",
       "High spender             48314               12299  \n",
       "Low spender            6346502             2121119  "
      ]
     },
     "execution_count": 76,
     "metadata": {},
     "output_type": "execute_result"
    }
   ],
   "source": [
    "profiles_by_spending"
   ]
  },
  {
   "cell_type": "code",
   "execution_count": 77,
   "id": "b49a01aa",
   "metadata": {
    "scrolled": true
   },
   "outputs": [
    {
     "data": {
      "image/png": "[encoded data removed]",
      "text/plain": [
       "<Figure size 432x288 with 1 Axes>"
      ]
     },
     "metadata": {
      "needs_background": "light"
     },
     "output_type": "display_data"
    }
   ],
   "source": [
    "# Bar\n",
    "\n",
    "profiles_by_spending_bar = profiles_by_spending.plot.bar(stacked = True, color = sns.color_palette('rocket', 7), title= 'Customer profiles by spending habits')\n",
    "plt.legend(loc='center left', bbox_to_anchor=(1, 0.5))\n",
    "plt.tight_layout()"
   ]
  },
  {
   "cell_type": "code",
   "execution_count": 78,
   "id": "abf0005c",
   "metadata": {},
   "outputs": [],
   "source": [
    "#Export chart\n",
    "\n",
    "profiles_by_spending_bar.figure.savefig(os.path.join(path,'04 Analysis','Visualizations','profiles_by_spendings.png'))"
   ]
  },
  {
   "cell_type": "markdown",
   "id": "fc151b40",
   "metadata": {},
   "source": [
    "### Visualizations for further insights"
   ]
  },
  {
   "cell_type": "code",
   "execution_count": 79,
   "id": "13800559",
   "metadata": {},
   "outputs": [
    {
     "data": {
      "image/png": "[encoded data removed]",
      "text/plain": [
       "<Figure size 432x288 with 1 Axes>"
      ]
     },
     "metadata": {
      "needs_background": "light"
     },
     "output_type": "display_data"
    }
   ],
   "source": [
    "# 1) All departments \n",
    "\n",
    "all_departments_bar = df_all['department'].value_counts().plot.bar(color = sns.color_palette(\"BuGn_r\", 21), title='Departments')\n",
    "plt.tight_layout()"
   ]
  },
  {
   "cell_type": "code",
   "execution_count": 80,
   "id": "21c12504",
   "metadata": {},
   "outputs": [],
   "source": [
    "# Exporting bar chart for departments\n",
    "all_departments_bar.figure.savefig(os.path.join(path,'04 Analysis','Visualizations','all_departments.png'))"
   ]
  },
  {
   "cell_type": "code",
   "execution_count": 81,
   "id": "19b19639",
   "metadata": {},
   "outputs": [
    {
     "data": {
      "image/png": "[encoded data removed]",
      "text/plain": [
       "<Figure size 432x288 with 1 Axes>"
      ]
     },
     "metadata": {
      "needs_background": "light"
     },
     "output_type": "display_data"
    }
   ],
   "source": [
    "# 2) bar chart based on orders by department popularity\n",
    "\n",
    "dept_popularity_bar = df_all['department_popularity'].value_counts().plot.barh(color =['#7b3aa1'], xlabel= 'department popularity', ylabel= 'Number of orders', title = 'Number of orders by department')\n",
    "plt.tight_layout()"
   ]
  },
  {
   "cell_type": "code",
   "execution_count": 82,
   "id": "ecdb7757",
   "metadata": {},
   "outputs": [],
   "source": [
    "# Exporting top selling departments\n",
    "\n",
    "dept_popularity_bar.figure.savefig(os.path.join(path,'04 Analysis','Visualizations','department_popularity.png'))"
   ]
  },
  {
   "cell_type": "markdown",
   "id": "a51697ae",
   "metadata": {},
   "source": [
    "### Customers"
   ]
  },
  {
   "cell_type": "code",
   "execution_count": 83,
   "id": "8f3a5260",
   "metadata": {},
   "outputs": [
    {
     "data": {
      "image/png": "[encoded data removed]",
      "text/plain": [
       "<Figure size 432x288 with 1 Axes>"
      ]
     },
     "metadata": {},
     "output_type": "display_data"
    }
   ],
   "source": [
    "# 1) distribution of customers - Loyalty \n",
    "loyalty_pie = df_all['loyalty_flag'].value_counts().sort_index().plot.pie(autopct='%1.1f%%', colors = sns.color_palette('pastel',3), title = 'All customers by loyalty')\n",
    "plt.ylabel('')\n",
    "plt.tight_layout()"
   ]
  },
  {
   "cell_type": "code",
   "execution_count": 84,
   "id": "92e167c1",
   "metadata": {},
   "outputs": [],
   "source": [
    "# Export pie chart \n",
    "\n",
    "loyalty_pie.figure.savefig(os.path.join(path, '04 Analysis','Visualizations', 'loyalty_pie.png'))"
   ]
  },
  {
   "cell_type": "code",
   "execution_count": 85,
   "id": "d9a604e9",
   "metadata": {},
   "outputs": [
    {
     "data": {
      "image/png": "[encoded data removed]",
      "text/plain": [
       "<Figure size 432x288 with 1 Axes>"
      ]
     },
     "metadata": {},
     "output_type": "display_data"
    }
   ],
   "source": [
    "# 2) distribution of customers - Spending \n",
    "spending_pie = df_all['spending_flag'].value_counts().sort_index().plot.pie(autopct='%1.1f%%', colors = sns.color_palette('pastel',2), title = 'Spending Proiles of Customers')\n",
    "plt.ylabel('')\n",
    "plt.tight_layout()"
   ]
  },
  {
   "cell_type": "code",
   "execution_count": 86,
   "id": "aad20e4f",
   "metadata": {},
   "outputs": [],
   "source": [
    "# Export pie chart \n",
    "\n",
    "spending_pie.figure.savefig(os.path.join(path, '04 Analysis','Visualizations', 'spending_pie.png'))"
   ]
  },
  {
   "cell_type": "code",
   "execution_count": 87,
   "id": "a7bda45b",
   "metadata": {},
   "outputs": [
    {
     "data": {
      "image/png": "[encoded data removed]",
      "text/plain": [
       "<Figure size 432x288 with 1 Axes>"
      ]
     },
     "metadata": {},
     "output_type": "display_data"
    }
   ],
   "source": [
    "# 3) Customer distribution-order regularity\n",
    "\n",
    "ordering_pie = df_all['frequency_flag'].value_counts().sort_index().plot.pie(autopct='%1.1f%%', colors = sns.color_palette('pastel',4), title = 'Ordering Habits of Customers')\n",
    "plt.ylabel('')\n",
    "plt.tight_layout()"
   ]
  },
  {
   "cell_type": "code",
   "execution_count": 88,
   "id": "747769a3",
   "metadata": {},
   "outputs": [],
   "source": [
    "# Export pie chart \n",
    "\n",
    "ordering_pie.figure.savefig(os.path.join(path, '04 Analysis','Visualizations', 'order_frequency_pie.png'))"
   ]
  },
  {
   "cell_type": "code",
   "execution_count": 89,
   "id": "cfb72dba",
   "metadata": {},
   "outputs": [
    {
     "data": {
      "image/png": "[encoded data removed]",
      "text/plain": [
       "<Figure size 432x288 with 1 Axes>"
      ]
     },
     "metadata": {},
     "output_type": "display_data"
    }
   ],
   "source": [
    "# 4) Family status\n",
    "\n",
    "family_status_pie = df_all['family_status'].value_counts().sort_index().plot.pie(autopct='%1.1f%%', colors = sns.color_palette('Set2',4), title='Family Status of all Customers')\n",
    "plt.ylabel('')\n",
    "plt.tight_layout()"
   ]
  },
  {
   "cell_type": "code",
   "execution_count": 90,
   "id": "e1327f54",
   "metadata": {},
   "outputs": [],
   "source": [
    "# Export pie chart \n",
    "\n",
    "family_status_pie.figure.savefig(os.path.join(path, '04 Analysis','Visualizations', 'fam_stat_pie.png'))"
   ]
  },
  {
   "cell_type": "markdown",
   "id": "b1112bd1",
   "metadata": {},
   "source": [
    "##### Days and day times"
   ]
  },
  {
   "cell_type": "code",
   "execution_count": 91,
   "id": "17436479",
   "metadata": {},
   "outputs": [
    {
     "data": {
      "image/png": "[encoded data removed]",
      "text/plain": [
       "<Figure size 432x288 with 1 Axes>"
      ]
     },
     "metadata": {
      "needs_background": "light"
     },
     "output_type": "display_data"
    }
   ],
   "source": [
    "# 1) Bar chart for days and orders\n",
    "days_of_week_bar = df_all['day_of_week'].value_counts().plot.bar(color =['#ffa070'], xlabel= 'Days', ylabel= 'Number of orders', title = 'Orders by days')\n",
    "plt.tight_layout()"
   ]
  },
  {
   "cell_type": "code",
   "execution_count": 92,
   "id": "9e5fefc3",
   "metadata": {},
   "outputs": [],
   "source": [
    "# Exporting orders by days\n",
    "\n",
    "days_of_week_bar.figure.savefig(os.path.join(path,'04 Analysis','Visualizations','orders_by_days.png'))"
   ]
  },
  {
   "cell_type": "code",
   "execution_count": 93,
   "id": "c723a532",
   "metadata": {},
   "outputs": [],
   "source": [
    "# 2) Sales for each weekday\n",
    "\n",
    "total_sales_weekday = df_all.groupby('day_of_week').agg({'prices': ['sum']})"
   ]
  },
  {
   "cell_type": "code",
   "execution_count": 94,
   "id": "a6668796",
   "metadata": {},
   "outputs": [
    {
     "data": {
      "text/plain": [
       "Text(0, 0.5, 'total_sales')"
      ]
     },
     "execution_count": 94,
     "metadata": {},
     "output_type": "execute_result"
    },
    {
     "data": {
      "image/png": "[encoded data removed]",
      "text/plain": [
       "<Figure size 432x288 with 1 Axes>"
      ]
     },
     "metadata": {
      "needs_background": "light"
     },
     "output_type": "display_data"
    }
   ],
   "source": [
    "# Create a line chart of mean prices \n",
    "\n",
    "total_sales_line_by_days = total_sales_weekday.plot.line(legend = False, color = sns.color_palette('Set2', 1), title='Total Sales by Days')\n",
    "plt.ylabel('total_sales')"
   ]
  },
  {
   "cell_type": "code",
   "execution_count": 95,
   "id": "1ffa7708",
   "metadata": {},
   "outputs": [],
   "source": [
    "# Export mean price per weekday\n",
    "total_sales_line_by_days.figure.savefig(os.path.join(path,'04 Analysis','Visualizations','total_sales_by_day.png'))"
   ]
  },
  {
   "cell_type": "code",
   "execution_count": 96,
   "id": "3783ee4c",
   "metadata": {},
   "outputs": [
    {
     "data": {
      "image/png": "[encoded data removed]",
      "text/plain": [
       "<Figure size 432x288 with 1 Axes>"
      ]
     },
     "metadata": {
      "needs_background": "light"
     },
     "output_type": "display_data"
    }
   ],
   "source": [
    "# 3) Busiest hours of the day\n",
    "busiest_hours = df_all['order_hour_of_day'].value_counts().sort_index().plot.bar(color = sns.color_palette('pastel', 1), title='Busiest Hours')"
   ]
  },
  {
   "cell_type": "code",
   "execution_count": 97,
   "id": "ded19f3e",
   "metadata": {},
   "outputs": [],
   "source": [
    "# Exporting busiest hours\n",
    "\n",
    "busiest_hours.figure.savefig(os.path.join(path,'04 Analysis','Visualizations','obusiest_hours_bar.png'))"
   ]
  },
  {
   "cell_type": "code",
   "execution_count": 98,
   "id": "7f7bee19",
   "metadata": {},
   "outputs": [],
   "source": [
    "# 4) Crosstab with top selling departments for part of the day \n",
    "\n",
    "top_departments_day_time = pd.crosstab(df_all['department_popularity'], df_all['day_time'], dropna = False)"
   ]
  },
  {
   "cell_type": "code",
   "execution_count": 99,
   "id": "397eb061",
   "metadata": {},
   "outputs": [
    {
     "data": {
      "image/png": "[encoded data removed]",
      "text/plain": [
       "<Figure size 432x288 with 1 Axes>"
      ]
     },
     "metadata": {
      "needs_background": "light"
     },
     "output_type": "display_data"
    }
   ],
   "source": [
    "# bar chart for top selling departments during time of day \n",
    "top_departments_day_time_bar = top_departments_day_time.plot.bar(stacked = True, color = sns.color_palette('pastel', 5), title= 'Day Time by Department Popularity')"
   ]
  },
  {
   "cell_type": "code",
   "execution_count": 100,
   "id": "d692f0ff",
   "metadata": {},
   "outputs": [],
   "source": [
    "#Exporting chart\n",
    "\n",
    "top_departments_day_time_bar.figure.savefig(os.path.join(path,'04 Analysis','Visualizations','top_dept_day_time_bar.png'))"
   ]
  },
  {
   "cell_type": "code",
   "execution_count": 101,
   "id": "3a11a005",
   "metadata": {},
   "outputs": [],
   "source": [
    "# 5) Crosstab with top selling departments for part of the day \n",
    "\n",
    "departments_by_day_time = pd.crosstab(df_all['day_time'], df_all['department_popularity'], dropna = False)"
   ]
  },
  {
   "cell_type": "code",
   "execution_count": 102,
   "id": "680eb316",
   "metadata": {},
   "outputs": [
    {
     "data": {
      "image/png": "[encoded data removed]",
      "text/plain": [
       "<Figure size 432x288 with 1 Axes>"
      ]
     },
     "metadata": {
      "needs_background": "light"
     },
     "output_type": "display_data"
    }
   ],
   "source": [
    "# bar chart for top selling departments during time of day \n",
    "\n",
    "departments_by_day_time_bar = departments_by_day_time.plot.bar(stacked = True, color = sns.color_palette('rocket', 4), title= 'Department Popularity by Day Time')\n",
    "plt.tight_layout()"
   ]
  },
  {
   "cell_type": "code",
   "execution_count": 103,
   "id": "720e227f",
   "metadata": {},
   "outputs": [],
   "source": [
    "#Exporting chart\n",
    "\n",
    "departments_by_day_time_bar.figure.savefig(os.path.join(path,'04 Analysis','Visualizations','dept_by_day_time.png'))"
   ]
  },
  {
   "cell_type": "markdown",
   "id": "53764c4e",
   "metadata": {},
   "source": [
    "##### Age groups"
   ]
  },
  {
   "cell_type": "code",
   "execution_count": 104,
   "id": "8acb4247",
   "metadata": {},
   "outputs": [],
   "source": [
    "# 1) Crosstab for department name and age group for visualization\n",
    "\n",
    "department_age = pd.crosstab(df_all['department'], df_all['age_group'], dropna = False)"
   ]
  },
  {
   "cell_type": "code",
   "execution_count": 105,
   "id": "2abfa759",
   "metadata": {},
   "outputs": [
    {
     "data": {
      "image/png": "[encoded data removed]",
      "text/plain": [
       "<Figure size 432x288 with 1 Axes>"
      ]
     },
     "metadata": {
      "needs_background": "light"
     },
     "output_type": "display_data"
    }
   ],
   "source": [
    "dept_age_bar = department_age.plot.bar(stacked = True, color = sns.color_palette('BuPu', 7), title= 'Ordering habits of age groups by departments')\n",
    "plt.tight_layout()"
   ]
  },
  {
   "cell_type": "code",
   "execution_count": 106,
   "id": "21a29357",
   "metadata": {},
   "outputs": [],
   "source": [
    "# Export department orders and age\n",
    "\n",
    "dept_age_bar.figure.savefig(os.path.join(path,'04 Analysis','Visualizations','dept_age.png'))"
   ]
  },
  {
   "cell_type": "code",
   "execution_count": 107,
   "id": "1ebebedd",
   "metadata": {},
   "outputs": [],
   "source": [
    "# 2) Best selling deptartment\n",
    "\n",
    "df_all['best_selling'] = df_all['department_popularity']=='best selling department'"
   ]
  },
  {
   "cell_type": "code",
   "execution_count": 108,
   "id": "fcaf62b4",
   "metadata": {},
   "outputs": [],
   "source": [
    "# Crosstab for best selling departments and age groups.=> Top 3 departments make up more than 50% of all sales: produce, dairy eggs, and beverages\n",
    "\n",
    "best_departments_age = pd.crosstab(df_all['best_selling'], df_all['age_group'], dropna = False)"
   ]
  },
  {
   "cell_type": "code",
   "execution_count": 109,
   "id": "d6cbf3c7",
   "metadata": {},
   "outputs": [
    {
     "data": {
      "image/png": "[encoded data removed]",
      "text/plain": [
       "<Figure size 432x288 with 1 Axes>"
      ]
     },
     "metadata": {
      "needs_background": "light"
     },
     "output_type": "display_data"
    }
   ],
   "source": [
    "# True=> best sellign departments: produce, diary eggs, and beverage\n",
    "# False => all other items\n",
    "\n",
    "best_departments_age_bar = best_departments_age.plot.bar(stacked = True, color = sns.color_palette('BuPu', 7), title= 'buying habits of age groups from best selling departments')\n",
    "plt.tight_layout()"
   ]
  },
  {
   "cell_type": "code",
   "execution_count": 110,
   "id": "11b5e953",
   "metadata": {},
   "outputs": [],
   "source": [
    "# Export best selling department and age\n",
    "\n",
    "best_departments_age_bar.figure.savefig(os.path.join(path,'04 Analysis','Visualizations','best_dept_age.png'))"
   ]
  },
  {
   "cell_type": "markdown",
   "id": "9b3eeee0",
   "metadata": {},
   "source": [
    "##### Income groups"
   ]
  },
  {
   "cell_type": "code",
   "execution_count": 111,
   "id": "128fe58c",
   "metadata": {},
   "outputs": [],
   "source": [
    "# 1) Crosstab for departments and income for visualization\n",
    "\n",
    "department_income = pd.crosstab(df_all['department'], df_all['income_groups'], dropna = False)"
   ]
  },
  {
   "cell_type": "code",
   "execution_count": 112,
   "id": "5476d701",
   "metadata": {},
   "outputs": [
    {
     "data": {
      "image/png": "[encoded data removed]",
      "text/plain": [
       "<Figure size 432x288 with 1 Axes>"
      ]
     },
     "metadata": {
      "needs_background": "light"
     },
     "output_type": "display_data"
    }
   ],
   "source": [
    "# Bar chart\n",
    "\n",
    "department_income_bar = department_income.plot.bar(stacked = True, color = sns.color_palette('flare', 5), title='Income groups by departments')\n",
    "plt.legend(title = 'income_groups',loc='center left', bbox_to_anchor=(1, 0.5))\n",
    "plt.tight_layout()"
   ]
  },
  {
   "cell_type": "code",
   "execution_count": 113,
   "id": "8daa0c63",
   "metadata": {},
   "outputs": [],
   "source": [
    "# Export department orders and income\n",
    "\n",
    "department_income_bar.figure.savefig(os.path.join(path,'04 Analysis','Visualizations','dept_income.png'))"
   ]
  },
  {
   "cell_type": "code",
   "execution_count": 114,
   "id": "79d4ce05",
   "metadata": {},
   "outputs": [],
   "source": [
    "#2)\n",
    "# Crosstab for departments and parental status for visualization\n",
    "\n",
    "department_parenthood = pd.crosstab(df_all['department'], df_all['parental_status'], dropna = False)"
   ]
  },
  {
   "cell_type": "code",
   "execution_count": 115,
   "id": "30ce8351",
   "metadata": {},
   "outputs": [
    {
     "data": {
      "text/html": [
       "<div>\n",
       "<style scoped>\n",
       "    .dataframe tbody tr th:only-of-type {\n",
       "        vertical-align: middle;\n",
       "    }\n",
       "\n",
       "    .dataframe tbody tr th {\n",
       "        vertical-align: top;\n",
       "    }\n",
       "\n",
       "    .dataframe thead th {\n",
       "        text-align: right;\n",
       "    }\n",
       "</style>\n",
       "<table border=\"1\" class=\"dataframe\">\n",
       "  <thead>\n",
       "    <tr style=\"text-align: right;\">\n",
       "      <th>parental_status</th>\n",
       "      <th>non parent</th>\n",
       "      <th>parent</th>\n",
       "    </tr>\n",
       "    <tr>\n",
       "      <th>department</th>\n",
       "      <th></th>\n",
       "      <th></th>\n",
       "    </tr>\n",
       "  </thead>\n",
       "  <tbody>\n",
       "    <tr>\n",
       "      <th>NaN</th>\n",
       "      <td>17088</td>\n",
       "      <td>52057</td>\n",
       "    </tr>\n",
       "    <tr>\n",
       "      <th>alcohol</th>\n",
       "      <td>39118</td>\n",
       "      <td>114578</td>\n",
       "    </tr>\n",
       "    <tr>\n",
       "      <th>babies</th>\n",
       "      <td>106494</td>\n",
       "      <td>317308</td>\n",
       "    </tr>\n",
       "    <tr>\n",
       "      <th>bakery</th>\n",
       "      <td>294405</td>\n",
       "      <td>878023</td>\n",
       "    </tr>\n",
       "    <tr>\n",
       "      <th>beverages</th>\n",
       "      <td>674442</td>\n",
       "      <td>2013681</td>\n",
       "    </tr>\n",
       "    <tr>\n",
       "      <th>breakfast</th>\n",
       "      <td>174577</td>\n",
       "      <td>528456</td>\n",
       "    </tr>\n",
       "    <tr>\n",
       "      <th>bulk</th>\n",
       "      <td>8278</td>\n",
       "      <td>26295</td>\n",
       "    </tr>\n",
       "    <tr>\n",
       "      <th>canned goods</th>\n",
       "      <td>264838</td>\n",
       "      <td>803220</td>\n",
       "    </tr>\n",
       "    <tr>\n",
       "      <th>dairy eggs</th>\n",
       "      <td>1349362</td>\n",
       "      <td>4049385</td>\n",
       "    </tr>\n",
       "    <tr>\n",
       "      <th>deli</th>\n",
       "      <td>265145</td>\n",
       "      <td>786104</td>\n",
       "    </tr>\n",
       "    <tr>\n",
       "      <th>dry goods pasta</th>\n",
       "      <td>215262</td>\n",
       "      <td>651365</td>\n",
       "    </tr>\n",
       "    <tr>\n",
       "      <th>frozen</th>\n",
       "      <td>557160</td>\n",
       "      <td>1677583</td>\n",
       "    </tr>\n",
       "    <tr>\n",
       "      <th>household</th>\n",
       "      <td>180773</td>\n",
       "      <td>557893</td>\n",
       "    </tr>\n",
       "    <tr>\n",
       "      <th>international</th>\n",
       "      <td>67713</td>\n",
       "      <td>201540</td>\n",
       "    </tr>\n",
       "    <tr>\n",
       "      <th>meat seafood</th>\n",
       "      <td>174084</td>\n",
       "      <td>534843</td>\n",
       "    </tr>\n",
       "    <tr>\n",
       "      <th>other</th>\n",
       "      <td>9175</td>\n",
       "      <td>27116</td>\n",
       "    </tr>\n",
       "    <tr>\n",
       "      <th>pantry</th>\n",
       "      <td>466757</td>\n",
       "      <td>1408612</td>\n",
       "    </tr>\n",
       "    <tr>\n",
       "      <th>personal care</th>\n",
       "      <td>112006</td>\n",
       "      <td>335566</td>\n",
       "    </tr>\n",
       "    <tr>\n",
       "      <th>pets</th>\n",
       "      <td>24583</td>\n",
       "      <td>73133</td>\n",
       "    </tr>\n",
       "    <tr>\n",
       "      <th>produce</th>\n",
       "      <td>2375445</td>\n",
       "      <td>7103846</td>\n",
       "    </tr>\n",
       "    <tr>\n",
       "      <th>snacks</th>\n",
       "      <td>720798</td>\n",
       "      <td>2166752</td>\n",
       "    </tr>\n",
       "  </tbody>\n",
       "</table>\n",
       "</div>"
      ],
      "text/plain": [
       "parental_status  non parent   parent\n",
       "department                          \n",
       "NaN                   17088    52057\n",
       "alcohol               39118   114578\n",
       "babies               106494   317308\n",
       "bakery               294405   878023\n",
       "beverages            674442  2013681\n",
       "breakfast            174577   528456\n",
       "bulk                   8278    26295\n",
       "canned goods         264838   803220\n",
       "dairy eggs          1349362  4049385\n",
       "deli                 265145   786104\n",
       "dry goods pasta      215262   651365\n",
       "frozen               557160  1677583\n",
       "household            180773   557893\n",
       "international         67713   201540\n",
       "meat seafood         174084   534843\n",
       "other                  9175    27116\n",
       "pantry               466757  1408612\n",
       "personal care        112006   335566\n",
       "pets                  24583    73133\n",
       "produce             2375445  7103846\n",
       "snacks               720798  2166752"
      ]
     },
     "execution_count": 115,
     "metadata": {},
     "output_type": "execute_result"
    }
   ],
   "source": [
    "department_parenthood"
   ]
  },
  {
   "cell_type": "code",
   "execution_count": 116,
   "id": "582658d3",
   "metadata": {},
   "outputs": [
    {
     "data": {
      "image/png": "[encoded data removed]",
      "text/plain": [
       "<Figure size 432x288 with 1 Axes>"
      ]
     },
     "metadata": {
      "needs_background": "light"
     },
     "output_type": "display_data"
    }
   ],
   "source": [
    "#Barplot\n",
    "\n",
    "department_parent_bar = department_parenthood.plot.bar(stacked = True, color = sns.color_palette('flare', 2), title= 'Parental Status by Department Choices')\n",
    "plt.tight_layout()"
   ]
  },
  {
   "cell_type": "code",
   "execution_count": 117,
   "id": "0c20e69f",
   "metadata": {},
   "outputs": [],
   "source": [
    "# Export chart\n",
    "\n",
    "department_parent_bar.figure.savefig(os.path.join(path,'04 Analysis','Visualizations','dept_parenthood.png'))"
   ]
  },
  {
   "cell_type": "code",
   "execution_count": 118,
   "id": "3eafe6dc",
   "metadata": {},
   "outputs": [],
   "source": [
    "#  3) Crosstab for  family status in terms of ordering habits\n",
    "\n",
    "\n",
    "fam_loyalty = pd.crosstab(df_all['family_status'], df_all['loyalty_flag'], dropna = False)"
   ]
  },
  {
   "cell_type": "code",
   "execution_count": 119,
   "id": "fe57b9bd",
   "metadata": {},
   "outputs": [
    {
     "data": {
      "text/html": [
       "<div>\n",
       "<style scoped>\n",
       "    .dataframe tbody tr th:only-of-type {\n",
       "        vertical-align: middle;\n",
       "    }\n",
       "\n",
       "    .dataframe tbody tr th {\n",
       "        vertical-align: top;\n",
       "    }\n",
       "\n",
       "    .dataframe thead th {\n",
       "        text-align: right;\n",
       "    }\n",
       "</style>\n",
       "<table border=\"1\" class=\"dataframe\">\n",
       "  <thead>\n",
       "    <tr style=\"text-align: right;\">\n",
       "      <th>loyalty_flag</th>\n",
       "      <th>Loyal customer</th>\n",
       "      <th>New customer</th>\n",
       "      <th>Regular customer</th>\n",
       "    </tr>\n",
       "    <tr>\n",
       "      <th>family_status</th>\n",
       "      <th></th>\n",
       "      <th></th>\n",
       "      <th></th>\n",
       "    </tr>\n",
       "  </thead>\n",
       "  <tbody>\n",
       "    <tr>\n",
       "      <th>divorced/widowed</th>\n",
       "      <td>882722</td>\n",
       "      <td>530322</td>\n",
       "      <td>1358768</td>\n",
       "    </tr>\n",
       "    <tr>\n",
       "      <th>living with parents and siblings</th>\n",
       "      <td>492749</td>\n",
       "      <td>291210</td>\n",
       "      <td>766644</td>\n",
       "    </tr>\n",
       "    <tr>\n",
       "      <th>married</th>\n",
       "      <td>7202500</td>\n",
       "      <td>4393693</td>\n",
       "      <td>11160560</td>\n",
       "    </tr>\n",
       "    <tr>\n",
       "      <th>single</th>\n",
       "      <td>1706122</td>\n",
       "      <td>1028765</td>\n",
       "      <td>2590804</td>\n",
       "    </tr>\n",
       "  </tbody>\n",
       "</table>\n",
       "</div>"
      ],
      "text/plain": [
       "loyalty_flag                      Loyal customer  New customer  \\\n",
       "family_status                                                    \n",
       "divorced/widowed                          882722        530322   \n",
       "living with parents and siblings          492749        291210   \n",
       "married                                  7202500       4393693   \n",
       "single                                   1706122       1028765   \n",
       "\n",
       "loyalty_flag                      Regular customer  \n",
       "family_status                                       \n",
       "divorced/widowed                           1358768  \n",
       "living with parents and siblings            766644  \n",
       "married                                   11160560  \n",
       "single                                     2590804  "
      ]
     },
     "execution_count": 119,
     "metadata": {},
     "output_type": "execute_result"
    }
   ],
   "source": [
    "fam_loyalty"
   ]
  },
  {
   "cell_type": "code",
   "execution_count": 120,
   "id": "b330eebc",
   "metadata": {},
   "outputs": [
    {
     "data": {
      "image/png": "[encoded data removed]",
      "text/plain": [
       "<Figure size 432x288 with 1 Axes>"
      ]
     },
     "metadata": {
      "needs_background": "light"
     },
     "output_type": "display_data"
    }
   ],
   "source": [
    "#barplot\n",
    "\n",
    "fam_loyalty_bar = fam_loyalty.plot.bar(stacked = True, color = sns.color_palette('viridis', 3), title = 'Loyalty by family status')\n",
    "plt.xticks(rotation= 20, horizontalalignment=\"center\")\n",
    "plt.tight_layout()"
   ]
  },
  {
   "cell_type": "code",
   "execution_count": 121,
   "id": "cf801fa5",
   "metadata": {},
   "outputs": [],
   "source": [
    "# Export chart\n",
    "\n",
    "fam_loyalty_bar.figure.savefig(os.path.join(path,'04 Analysis','Visualizations','fam_loyalty.png'))"
   ]
  },
  {
   "cell_type": "code",
   "execution_count": 122,
   "id": "2e69ebfb",
   "metadata": {},
   "outputs": [],
   "source": [
    "#  4) Crosstab for age groups in terms of ordering habits\n",
    "\n",
    "age_loyalty = pd.crosstab(df_all['age_group'], df_all['loyalty_flag'], dropna = False)"
   ]
  },
  {
   "cell_type": "code",
   "execution_count": 123,
   "id": "ed5b22cd",
   "metadata": {},
   "outputs": [
    {
     "data": {
      "image/png": "[encoded data removed]",
      "text/plain": [
       "<Figure size 432x288 with 1 Axes>"
      ]
     },
     "metadata": {
      "needs_background": "light"
     },
     "output_type": "display_data"
    }
   ],
   "source": [
    "#Bar plot\n",
    "\n",
    "age_loyalty_bar = age_loyalty.plot.barh(stacked = True, color = sns.color_palette('viridis', 3), title = 'Loyalty by age groups')\n",
    "plt.legend(loc='upper left', bbox_to_anchor=(1, 0.5))\n",
    "plt.tight_layout()"
   ]
  },
  {
   "cell_type": "code",
   "execution_count": 124,
   "id": "dc41a519",
   "metadata": {},
   "outputs": [],
   "source": [
    "# Export chart\n",
    "\n",
    "age_loyalty_bar.figure.savefig(os.path.join(path,'04 Analysis','Visualizations','age_loyalty.png'))"
   ]
  },
  {
   "cell_type": "code",
   "execution_count": 125,
   "id": "bb024a08",
   "metadata": {},
   "outputs": [],
   "source": [
    "#  5) Crosstab for parental status in terms of ordering habits\n",
    "\n",
    "parenthood_loyalty = pd.crosstab(df_all['parental_status'], df_all['loyalty_flag'], dropna = False)"
   ]
  },
  {
   "cell_type": "code",
   "execution_count": 126,
   "id": "a7e35217",
   "metadata": {},
   "outputs": [
    {
     "data": {
      "image/png": "[encoded data removed]",
      "text/plain": [
       "<Figure size 432x288 with 1 Axes>"
      ]
     },
     "metadata": {
      "needs_background": "light"
     },
     "output_type": "display_data"
    }
   ],
   "source": [
    "#Bar plot\n",
    "\n",
    "parenthood_loyalty_bar = parenthood_loyalty.plot.bar(stacked = True, color = sns.color_palette('flare', 2), title = 'Loyalty by parental status')\n",
    "plt.legend(loc='upper left', bbox_to_anchor=(1, 0.5))\n",
    "plt.tight_layout()"
   ]
  },
  {
   "cell_type": "code",
   "execution_count": 127,
   "id": "a1928140",
   "metadata": {},
   "outputs": [],
   "source": [
    "# Export chart\n",
    "\n",
    "parenthood_loyalty_bar.figure.savefig(os.path.join(path,'04 Analysis','Visualizations','parent_loyalty.png'))"
   ]
  },
  {
   "cell_type": "code",
   "execution_count": 128,
   "id": "c345a0aa",
   "metadata": {},
   "outputs": [
    {
     "data": {
      "image/png": "[encoded data removed]",
      "text/plain": [
       "<Figure size 432x288 with 1 Axes>"
      ]
     },
     "metadata": {},
     "output_type": "display_data"
    }
   ],
   "source": [
    "# 5) simple price range groupings: High-range, mid-range, low-range\n",
    "\n",
    "price_range_pie = df_all['price_range_loc'].value_counts().sort_index().plot.pie(autopct='%1.1f%%', colors = sns.color_palette('pastel', 4), title = 'Simpler Price Range for All Products')\n",
    "plt.ylabel('')\n",
    "plt.tight_layout()"
   ]
  },
  {
   "cell_type": "code",
   "execution_count": 129,
   "id": "abdd9e07",
   "metadata": {},
   "outputs": [],
   "source": [
    "# Export pie chart\n",
    "\n",
    "price_range_pie.figure.savefig(os.path.join(path, '04 Analysis','Visualizations', 'price_range_pie.png'))"
   ]
  },
  {
   "cell_type": "code",
   "execution_count": 130,
   "id": "64dcc250",
   "metadata": {},
   "outputs": [],
   "source": [
    "# 6) Ordering habits\n",
    "cust_loyalty_ordering = pd.crosstab(df_all['loyalty_flag'], df_all['price_range_loc'], dropna = False)"
   ]
  },
  {
   "cell_type": "code",
   "execution_count": 131,
   "id": "3d705f8e",
   "metadata": {},
   "outputs": [
    {
     "data": {
      "image/png": "[encoded data removed]",
      "text/plain": [
       "<Figure size 432x288 with 1 Axes>"
      ]
     },
     "metadata": {
      "needs_background": "light"
     },
     "output_type": "display_data"
    }
   ],
   "source": [
    "#barplot\n",
    "\n",
    "loyalty_ordering_bar = cust_loyalty_ordering.plot.bar(stacked = True, color = sns.color_palette('pastel', 3), title = 'Ordering habits by customer loyalty')\n",
    "plt.xticks(rotation= 0, horizontalalignment=\"center\")\n",
    "plt.tight_layout()"
   ]
  },
  {
   "cell_type": "code",
   "execution_count": 132,
   "id": "f0e355cc",
   "metadata": {},
   "outputs": [],
   "source": [
    "# Export chart\n",
    "\n",
    "loyalty_ordering_bar.figure.savefig(os.path.join(path, '04 Analysis','Visualizations', 'orders_by_loyalty.png'))"
   ]
  },
  {
   "cell_type": "markdown",
   "id": "28f426e8",
   "metadata": {},
   "source": [
    "### Gender"
   ]
  },
  {
   "cell_type": "code",
   "execution_count": 133,
   "id": "ccc804cf",
   "metadata": {},
   "outputs": [],
   "source": [
    "# 1) crosstab gender and spending\n",
    "\n",
    "gender_spending = pd.crosstab(df_all['gender'], df_all['spending_flag'], dropna = False)"
   ]
  },
  {
   "cell_type": "code",
   "execution_count": 134,
   "id": "ab5de690",
   "metadata": {},
   "outputs": [
    {
     "data": {
      "image/png": "[encoded data removed]",
      "text/plain": [
       "<Figure size 432x288 with 1 Axes>"
      ]
     },
     "metadata": {
      "needs_background": "light"
     },
     "output_type": "display_data"
    }
   ],
   "source": [
    "# Create gender and order\n",
    "\n",
    "gender_spending_bar = gender_spending.plot(kind = 'bar', stacked = True, color = sns.color_palette('pastel', 2), title = 'Spending Habits by Gender')\n",
    "plt.xticks(rotation= 45, horizontalalignment=\"center\")\n",
    "plt.legend(loc='upper left', bbox_to_anchor=(1, 0.5))\n",
    "plt.tight_layout()"
   ]
  },
  {
   "cell_type": "code",
   "execution_count": 135,
   "id": "b8bdd006",
   "metadata": {},
   "outputs": [],
   "source": [
    "# Export pie chart\n",
    "\n",
    "gender_spending_bar.figure.savefig(os.path.join(path, '04 Analysis','Visualizations', 'gender_spending.png'))"
   ]
  },
  {
   "cell_type": "code",
   "execution_count": 136,
   "id": "1905280f",
   "metadata": {},
   "outputs": [],
   "source": [
    "# 2) crosstab gender and order frequency\n",
    "\n",
    "gender_ordering = pd.crosstab(df_all['gender'], df_all['frequency_flag'], dropna = False)"
   ]
  },
  {
   "cell_type": "code",
   "execution_count": 137,
   "id": "52fda887",
   "metadata": {},
   "outputs": [
    {
     "data": {
      "image/png": "[encoded data removed]",
      "text/plain": [
       "<Figure size 432x288 with 1 Axes>"
      ]
     },
     "metadata": {
      "needs_background": "light"
     },
     "output_type": "display_data"
    }
   ],
   "source": [
    "# Create gender and order\n",
    "\n",
    "gender_ordering_bar = gender_ordering.plot(kind = 'bar', stacked = True, color = sns.color_palette('pastel', 3), title= 'Order Frequency by Gender')\n",
    "plt.xticks(rotation= 45, horizontalalignment=\"center\")\n",
    "plt.legend(loc='upper left', bbox_to_anchor=(1, 0.5))\n",
    "plt.tight_layout()"
   ]
  },
  {
   "cell_type": "code",
   "execution_count": 138,
   "id": "a27a2e7d",
   "metadata": {},
   "outputs": [],
   "source": [
    "# Export pie chart\n",
    "\n",
    "gender_ordering_bar.figure.savefig(os.path.join(path, '04 Analysis','Visualizations', 'gender_ordering habits.png'))"
   ]
  },
  {
   "cell_type": "markdown",
   "id": "10f210fa",
   "metadata": {},
   "source": [
    "### Region frequency"
   ]
  },
  {
   "cell_type": "code",
   "execution_count": 139,
   "id": "07a985e2",
   "metadata": {},
   "outputs": [],
   "source": [
    "# Region crosstab by order frequency\n",
    "\n",
    "regions_by_ordering = pd.crosstab(df_all['region'], df_all['frequency_flag'], dropna = False)"
   ]
  },
  {
   "cell_type": "code",
   "execution_count": 140,
   "id": "11bd254d",
   "metadata": {},
   "outputs": [],
   "source": [
    "#Copy to clipboard\n",
    "\n",
    "regions_by_ordering.to_clipboard()"
   ]
  },
  {
   "cell_type": "code",
   "execution_count": 141,
   "id": "6c6bbdbb",
   "metadata": {},
   "outputs": [
    {
     "data": {
      "image/png": "[encoded data removed]",
      "text/plain": [
       "<Figure size 432x288 with 1 Axes>"
      ]
     },
     "metadata": {
      "needs_background": "light"
     },
     "output_type": "display_data"
    }
   ],
   "source": [
    "#Bar chart\n",
    "\n",
    "region_ordering_bar = regions_by_ordering.plot(kind = 'bar', stacked = True, color = sns.color_palette('pastel', 3), title= 'Order habits by regions')\n",
    "plt.xticks(rotation=0, horizontalalignment=\"center\")\n",
    "plt.tight_layout()"
   ]
  },
  {
   "cell_type": "code",
   "execution_count": 142,
   "id": "10324aa9",
   "metadata": {},
   "outputs": [],
   "source": [
    "# Export pie chart\n",
    "\n",
    "region_ordering_bar.figure.savefig(os.path.join(path, '04 Analysis','Visualizations', 'ordering habits by regions.png'))"
   ]
  },
  {
   "cell_type": "markdown",
   "id": "4dd8334c",
   "metadata": {},
   "source": [
    "### Export latest data frame"
   ]
  },
  {
   "cell_type": "code",
   "execution_count": 143,
   "id": "0aa82570",
   "metadata": {},
   "outputs": [],
   "source": [
    "# Export latest note book\n",
    "df_all.to_pickle(os.path.join(path,'02 Data','Prepared Data','df_all_final_1.2.pkl'))"
   ]
  }
 ],
 "metadata": {
  "kernelspec": {
   "display_name": "Python 3 (ipykernel)",
   "language": "python",
   "name": "python3"
  },
  "language_info": {
   "codemirror_mode": {
    "name": "ipython",
    "version": 3
   },
   "file_extension": ".py",
   "mimetype": "text/x-python",
   "name": "python",
   "nbconvert_exporter": "python",
   "pygments_lexer": "ipython3",
   "version": "3.9.7"
  }
 },
 "nbformat": 4,
 "nbformat_minor": 5
}
